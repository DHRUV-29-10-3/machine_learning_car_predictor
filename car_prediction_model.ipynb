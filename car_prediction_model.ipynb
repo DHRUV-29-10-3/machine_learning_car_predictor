{
 "cells": [
  {
   "cell_type": "code",
   "execution_count": 1,
   "id": "9aa0db92-bb77-469b-a4f8-6fe93b4c17ff",
   "metadata": {},
   "outputs": [],
   "source": [
    "import numpy as np\n",
    "import pandas as pd \n",
    "import seaborn as sns "
   ]
  },
  {
   "cell_type": "code",
   "execution_count": 2,
   "id": "049faf2a-f5ac-4cfe-aa4d-41abe7bdaa64",
   "metadata": {},
   "outputs": [],
   "source": [
    "car_data = pd.read_csv('quikr_car.csv')"
   ]
  },
  {
   "cell_type": "code",
   "execution_count": 3,
   "id": "8c2a2169-8c0b-4915-81a8-49cd653f7f7f",
   "metadata": {},
   "outputs": [
    {
     "data": {
      "text/html": [
       "<div>\n",
       "<style scoped>\n",
       "    .dataframe tbody tr th:only-of-type {\n",
       "        vertical-align: middle;\n",
       "    }\n",
       "\n",
       "    .dataframe tbody tr th {\n",
       "        vertical-align: top;\n",
       "    }\n",
       "\n",
       "    .dataframe thead th {\n",
       "        text-align: right;\n",
       "    }\n",
       "</style>\n",
       "<table border=\"1\" class=\"dataframe\">\n",
       "  <thead>\n",
       "    <tr style=\"text-align: right;\">\n",
       "      <th></th>\n",
       "      <th>name</th>\n",
       "      <th>company</th>\n",
       "      <th>year</th>\n",
       "      <th>Price</th>\n",
       "      <th>kms_driven</th>\n",
       "      <th>fuel_type</th>\n",
       "    </tr>\n",
       "  </thead>\n",
       "  <tbody>\n",
       "    <tr>\n",
       "      <th>0</th>\n",
       "      <td>Hyundai Santro Xing XO eRLX Euro III</td>\n",
       "      <td>Hyundai</td>\n",
       "      <td>2007</td>\n",
       "      <td>80,000</td>\n",
       "      <td>45,000 kms</td>\n",
       "      <td>Petrol</td>\n",
       "    </tr>\n",
       "    <tr>\n",
       "      <th>1</th>\n",
       "      <td>Mahindra Jeep CL550 MDI</td>\n",
       "      <td>Mahindra</td>\n",
       "      <td>2006</td>\n",
       "      <td>4,25,000</td>\n",
       "      <td>40 kms</td>\n",
       "      <td>Diesel</td>\n",
       "    </tr>\n",
       "    <tr>\n",
       "      <th>2</th>\n",
       "      <td>Maruti Suzuki Alto 800 Vxi</td>\n",
       "      <td>Maruti</td>\n",
       "      <td>2018</td>\n",
       "      <td>Ask For Price</td>\n",
       "      <td>22,000 kms</td>\n",
       "      <td>Petrol</td>\n",
       "    </tr>\n",
       "    <tr>\n",
       "      <th>3</th>\n",
       "      <td>Hyundai Grand i10 Magna 1.2 Kappa VTVT</td>\n",
       "      <td>Hyundai</td>\n",
       "      <td>2014</td>\n",
       "      <td>3,25,000</td>\n",
       "      <td>28,000 kms</td>\n",
       "      <td>Petrol</td>\n",
       "    </tr>\n",
       "    <tr>\n",
       "      <th>4</th>\n",
       "      <td>Ford EcoSport Titanium 1.5L TDCi</td>\n",
       "      <td>Ford</td>\n",
       "      <td>2014</td>\n",
       "      <td>5,75,000</td>\n",
       "      <td>36,000 kms</td>\n",
       "      <td>Diesel</td>\n",
       "    </tr>\n",
       "  </tbody>\n",
       "</table>\n",
       "</div>"
      ],
      "text/plain": [
       "                                     name   company  year          Price  \\\n",
       "0    Hyundai Santro Xing XO eRLX Euro III   Hyundai  2007         80,000   \n",
       "1                 Mahindra Jeep CL550 MDI  Mahindra  2006       4,25,000   \n",
       "2              Maruti Suzuki Alto 800 Vxi    Maruti  2018  Ask For Price   \n",
       "3  Hyundai Grand i10 Magna 1.2 Kappa VTVT   Hyundai  2014       3,25,000   \n",
       "4        Ford EcoSport Titanium 1.5L TDCi      Ford  2014       5,75,000   \n",
       "\n",
       "   kms_driven fuel_type  \n",
       "0  45,000 kms    Petrol  \n",
       "1      40 kms    Diesel  \n",
       "2  22,000 kms    Petrol  \n",
       "3  28,000 kms    Petrol  \n",
       "4  36,000 kms    Diesel  "
      ]
     },
     "execution_count": 3,
     "metadata": {},
     "output_type": "execute_result"
    }
   ],
   "source": [
    "car_data.head()"
   ]
  },
  {
   "cell_type": "code",
   "execution_count": 4,
   "id": "3d3f5c5f-2d6a-4133-87d3-5b9e0caa9707",
   "metadata": {},
   "outputs": [
    {
     "data": {
      "text/plain": [
       "(892, 6)"
      ]
     },
     "execution_count": 4,
     "metadata": {},
     "output_type": "execute_result"
    }
   ],
   "source": [
    "car_data.shape"
   ]
  },
  {
   "cell_type": "code",
   "execution_count": 5,
   "id": "4446d182-297c-4865-a0c8-03866426d902",
   "metadata": {},
   "outputs": [
    {
     "data": {
      "text/plain": [
       "Index(['name', 'company', 'year', 'Price', 'kms_driven', 'fuel_type'], dtype='object')"
      ]
     },
     "execution_count": 5,
     "metadata": {},
     "output_type": "execute_result"
    }
   ],
   "source": [
    "car_data.columns"
   ]
  },
  {
   "cell_type": "code",
   "execution_count": 6,
   "id": "b20d914c-61f4-41a9-b780-05716f4e23db",
   "metadata": {},
   "outputs": [
    {
     "name": "stdout",
     "output_type": "stream",
     "text": [
      "<class 'pandas.core.frame.DataFrame'>\n",
      "RangeIndex: 892 entries, 0 to 891\n",
      "Data columns (total 6 columns):\n",
      " #   Column      Non-Null Count  Dtype \n",
      "---  ------      --------------  ----- \n",
      " 0   name        892 non-null    object\n",
      " 1   company     892 non-null    object\n",
      " 2   year        892 non-null    object\n",
      " 3   Price       892 non-null    object\n",
      " 4   kms_driven  840 non-null    object\n",
      " 5   fuel_type   837 non-null    object\n",
      "dtypes: object(6)\n",
      "memory usage: 41.9+ KB\n"
     ]
    }
   ],
   "source": [
    "car_data.info()"
   ]
  },
  {
   "cell_type": "code",
   "execution_count": 7,
   "id": "99494f26-8447-48a2-93ce-6a449ddf3c4e",
   "metadata": {},
   "outputs": [
    {
     "data": {
      "text/plain": [
       "array(['2007', '2006', '2018', '2014', '2015', '2012', '2013', '2016',\n",
       "       '2010', '2017', '2008', '2011', '2019', '2009', '2005', '2000',\n",
       "       '...', '150k', 'TOUR', '2003', 'r 15', '2004', 'Zest', '/-Rs',\n",
       "       'sale', '1995', 'ara)', '2002', 'SELL', '2001', 'tion', 'odel',\n",
       "       '2 bs', 'arry', 'Eon', 'o...', 'ture', 'emi', 'car', 'able', 'no.',\n",
       "       'd...', 'SALE', 'digo', 'sell', 'd Ex', 'n...', 'e...', 'D...',\n",
       "       ', Ac', 'go .', 'k...', 'o c4', 'zire', 'cent', 'Sumo', 'cab',\n",
       "       't xe', 'EV2', 'r...', 'zest'], dtype=object)"
      ]
     },
     "execution_count": 7,
     "metadata": {},
     "output_type": "execute_result"
    }
   ],
   "source": [
    "car_data['year'].unique()"
   ]
  },
  {
   "cell_type": "code",
   "execution_count": 8,
   "id": "41661ba2-c42f-4d41-bc37-5e6c0b21438c",
   "metadata": {},
   "outputs": [
    {
     "data": {
      "text/plain": [
       "array(['Hyundai', 'Mahindra', 'Maruti', 'Ford', 'Skoda', 'Audi', 'Toyota',\n",
       "       'Renault', 'Honda', 'Datsun', 'Mitsubishi', 'Tata', 'Volkswagen',\n",
       "       'I', 'Chevrolet', 'Mini', 'BMW', 'Nissan', 'Hindustan', 'Fiat',\n",
       "       'Commercial', 'MARUTI', 'Force', 'Mercedes', 'Land', 'Yamaha',\n",
       "       'selling', 'URJENT', 'Swift', 'Used', 'Jaguar', 'Jeep', 'tata',\n",
       "       'Sale', 'very', 'Volvo', 'i', '2012', 'Well', 'all', '7', '9',\n",
       "       'scratch', 'urgent', 'sell', 'TATA', 'Any', 'Tara'], dtype=object)"
      ]
     },
     "execution_count": 8,
     "metadata": {},
     "output_type": "execute_result"
    }
   ],
   "source": [
    "car_data['company'].unique()"
   ]
  },
  {
   "cell_type": "code",
   "execution_count": 9,
   "id": "2d332438-5b7d-4278-be54-bea5815b02fc",
   "metadata": {},
   "outputs": [
    {
     "data": {
      "text/plain": [
       "array(['80,000', '4,25,000', 'Ask For Price', '3,25,000', '5,75,000',\n",
       "       '1,75,000', '1,90,000', '8,30,000', '2,50,000', '1,82,000',\n",
       "       '3,15,000', '4,15,000', '3,20,000', '10,00,000', '5,00,000',\n",
       "       '3,50,000', '1,60,000', '3,10,000', '75,000', '1,00,000',\n",
       "       '2,90,000', '95,000', '1,80,000', '3,85,000', '1,05,000',\n",
       "       '6,50,000', '6,89,999', '4,48,000', '5,49,000', '5,01,000',\n",
       "       '4,89,999', '2,80,000', '3,49,999', '2,84,999', '3,45,000',\n",
       "       '4,99,999', '2,35,000', '2,49,999', '14,75,000', '3,95,000',\n",
       "       '2,20,000', '1,70,000', '85,000', '2,00,000', '5,70,000',\n",
       "       '1,10,000', '4,48,999', '18,91,111', '1,59,500', '3,44,999',\n",
       "       '4,49,999', '8,65,000', '6,99,000', '3,75,000', '2,24,999',\n",
       "       '12,00,000', '1,95,000', '3,51,000', '2,40,000', '90,000',\n",
       "       '1,55,000', '6,00,000', '1,89,500', '2,10,000', '3,90,000',\n",
       "       '1,35,000', '16,00,000', '7,01,000', '2,65,000', '5,25,000',\n",
       "       '3,72,000', '6,35,000', '5,50,000', '4,85,000', '3,29,500',\n",
       "       '2,51,111', '5,69,999', '69,999', '2,99,999', '3,99,999',\n",
       "       '4,50,000', '2,70,000', '1,58,400', '1,79,000', '1,25,000',\n",
       "       '2,99,000', '1,50,000', '2,75,000', '2,85,000', '3,40,000',\n",
       "       '70,000', '2,89,999', '8,49,999', '7,49,999', '2,74,999',\n",
       "       '9,84,999', '5,99,999', '2,44,999', '4,74,999', '2,45,000',\n",
       "       '1,69,500', '3,70,000', '1,68,000', '1,45,000', '98,500',\n",
       "       '2,09,000', '1,85,000', '9,00,000', '6,99,999', '1,99,999',\n",
       "       '5,44,999', '1,99,000', '5,40,000', '49,000', '7,00,000', '55,000',\n",
       "       '8,95,000', '3,55,000', '5,65,000', '3,65,000', '40,000',\n",
       "       '4,00,000', '3,30,000', '5,80,000', '3,79,000', '2,19,000',\n",
       "       '5,19,000', '7,30,000', '20,00,000', '21,00,000', '14,00,000',\n",
       "       '3,11,000', '8,55,000', '5,35,000', '1,78,000', '3,00,000',\n",
       "       '2,55,000', '5,49,999', '3,80,000', '57,000', '4,10,000',\n",
       "       '2,25,000', '1,20,000', '59,000', '5,99,000', '6,75,000', '72,500',\n",
       "       '6,10,000', '2,30,000', '5,20,000', '5,24,999', '4,24,999',\n",
       "       '6,44,999', '5,84,999', '7,99,999', '4,44,999', '6,49,999',\n",
       "       '9,44,999', '5,74,999', '3,74,999', '1,30,000', '4,01,000',\n",
       "       '13,50,000', '1,74,999', '2,39,999', '99,999', '3,24,999',\n",
       "       '10,74,999', '11,30,000', '1,49,000', '7,70,000', '30,000',\n",
       "       '3,35,000', '3,99,000', '65,000', '1,69,999', '1,65,000',\n",
       "       '5,60,000', '9,50,000', '7,15,000', '45,000', '9,40,000',\n",
       "       '1,55,555', '15,00,000', '4,95,000', '8,00,000', '12,99,000',\n",
       "       '5,30,000', '14,99,000', '32,000', '4,05,000', '7,60,000',\n",
       "       '7,50,000', '4,19,000', '1,40,000', '15,40,000', '1,23,000',\n",
       "       '4,98,000', '4,80,000', '4,88,000', '15,25,000', '5,48,900',\n",
       "       '7,25,000', '99,000', '52,000', '28,00,000', '4,99,000',\n",
       "       '3,81,000', '2,78,000', '6,90,000', '2,60,000', '90,001',\n",
       "       '1,15,000', '15,99,000', '1,59,000', '51,999', '2,15,000',\n",
       "       '35,000', '11,50,000', '2,69,000', '60,000', '4,30,000',\n",
       "       '85,00,003', '4,01,919', '4,90,000', '4,24,000', '2,05,000',\n",
       "       '5,49,900', '3,71,500', '4,35,000', '1,89,700', '3,89,700',\n",
       "       '3,60,000', '2,95,000', '1,14,990', '10,65,000', '4,70,000',\n",
       "       '48,000', '1,88,000', '4,65,000', '1,79,999', '21,90,000',\n",
       "       '23,90,000', '10,75,000', '4,75,000', '10,25,000', '6,15,000',\n",
       "       '19,00,000', '14,90,000', '15,10,000', '18,50,000', '7,90,000',\n",
       "       '17,25,000', '12,25,000', '68,000', '9,70,000', '31,00,000',\n",
       "       '8,99,000', '88,000', '53,000', '5,68,500', '71,000', '5,90,000',\n",
       "       '7,95,000', '42,000', '1,89,000', '1,62,000', '35,999',\n",
       "       '29,00,000', '39,999', '50,500', '5,10,000', '8,60,000',\n",
       "       '5,00,001'], dtype=object)"
      ]
     },
     "execution_count": 9,
     "metadata": {},
     "output_type": "execute_result"
    }
   ],
   "source": [
    "car_data['Price'].unique()"
   ]
  },
  {
   "cell_type": "code",
   "execution_count": 10,
   "id": "0815e438-c978-4ccf-b2f8-b4c2bf0e7b0c",
   "metadata": {},
   "outputs": [
    {
     "data": {
      "text/plain": [
       "array(['Petrol', 'Diesel', nan, 'LPG'], dtype=object)"
      ]
     },
     "execution_count": 10,
     "metadata": {},
     "output_type": "execute_result"
    }
   ],
   "source": [
    "car_data['fuel_type'].unique()"
   ]
  },
  {
   "cell_type": "code",
   "execution_count": 11,
   "id": "1155e0be-e1ea-49ef-8f14-85aac7a4db81",
   "metadata": {},
   "outputs": [
    {
     "data": {
      "text/plain": [
       "array(['45,000 kms', '40 kms', '22,000 kms', '28,000 kms', '36,000 kms',\n",
       "       '59,000 kms', '41,000 kms', '25,000 kms', '24,530 kms',\n",
       "       '60,000 kms', '30,000 kms', '32,000 kms', '48,660 kms',\n",
       "       '4,000 kms', '16,934 kms', '43,000 kms', '35,550 kms',\n",
       "       '39,522 kms', '39,000 kms', '55,000 kms', '72,000 kms',\n",
       "       '15,975 kms', '70,000 kms', '23,452 kms', '35,522 kms',\n",
       "       '48,508 kms', '15,487 kms', '82,000 kms', '20,000 kms',\n",
       "       '68,000 kms', '38,000 kms', '27,000 kms', '33,000 kms',\n",
       "       '46,000 kms', '16,000 kms', '47,000 kms', '35,000 kms',\n",
       "       '30,874 kms', '15,000 kms', '29,685 kms', '1,30,000 kms',\n",
       "       '19,000 kms', nan, '54,000 kms', '13,000 kms', '38,200 kms',\n",
       "       '50,000 kms', '13,500 kms', '3,600 kms', '45,863 kms',\n",
       "       '60,500 kms', '12,500 kms', '18,000 kms', '13,349 kms',\n",
       "       '29,000 kms', '44,000 kms', '42,000 kms', '14,000 kms',\n",
       "       '49,000 kms', '36,200 kms', '51,000 kms', '1,04,000 kms',\n",
       "       '33,333 kms', '33,600 kms', '5,600 kms', '7,500 kms', '26,000 kms',\n",
       "       '24,330 kms', '65,480 kms', '28,028 kms', '2,00,000 kms',\n",
       "       '99,000 kms', '2,800 kms', '21,000 kms', '11,000 kms',\n",
       "       '66,000 kms', '3,000 kms', '7,000 kms', '38,500 kms', '37,200 kms',\n",
       "       '43,200 kms', '24,800 kms', '45,872 kms', '40,000 kms',\n",
       "       '11,400 kms', '97,200 kms', '52,000 kms', '31,000 kms',\n",
       "       '1,75,430 kms', '37,000 kms', '65,000 kms', '3,350 kms',\n",
       "       '75,000 kms', '62,000 kms', '73,000 kms', '2,200 kms',\n",
       "       '54,870 kms', '34,580 kms', '97,000 kms', '60 kms', '80,200 kms',\n",
       "       '3,200 kms', '0,000 kms', '5,000 kms', '588 kms', '71,200 kms',\n",
       "       '1,75,400 kms', '9,300 kms', '56,758 kms', '10,000 kms',\n",
       "       '56,450 kms', '56,000 kms', '32,700 kms', '9,000 kms', '73 kms',\n",
       "       '1,60,000 kms', '84,000 kms', '58,559 kms', '57,000 kms',\n",
       "       '1,70,000 kms', '80,000 kms', '6,821 kms', '23,000 kms',\n",
       "       '34,000 kms', '1,800 kms', '4,00,000 kms', '48,000 kms',\n",
       "       '90,000 kms', '12,000 kms', '69,900 kms', '1,66,000 kms',\n",
       "       '122 kms', '0 kms', '24,000 kms', '36,469 kms', '7,800 kms',\n",
       "       '24,695 kms', '15,141 kms', '59,910 kms', '1,00,000 kms',\n",
       "       '4,500 kms', '1,29,000 kms', '300 kms', '1,31,000 kms',\n",
       "       '1,11,111 kms', '59,466 kms', '25,500 kms', '44,005 kms',\n",
       "       '2,110 kms', '43,222 kms', '1,00,200 kms', '65 kms',\n",
       "       '1,40,000 kms', '1,03,553 kms', '58,000 kms', '1,20,000 kms',\n",
       "       '49,800 kms', '100 kms', '81,876 kms', '6,020 kms', '55,700 kms',\n",
       "       '18,500 kms', '1,80,000 kms', '53,000 kms', '35,500 kms',\n",
       "       '22,134 kms', '1,000 kms', '8,500 kms', '87,000 kms', '6,000 kms',\n",
       "       '15,574 kms', '8,000 kms', '55,800 kms', '56,400 kms',\n",
       "       '72,160 kms', '11,500 kms', '1,33,000 kms', '2,000 kms',\n",
       "       '88,000 kms', '65,422 kms', '1,17,000 kms', '1,50,000 kms',\n",
       "       '10,750 kms', '6,800 kms', '5 kms', '9,800 kms', '57,923 kms',\n",
       "       '30,201 kms', '6,200 kms', '37,518 kms', '24,652 kms', '383 kms',\n",
       "       '95,000 kms', '3,528 kms', '52,500 kms', '47,900 kms',\n",
       "       '52,800 kms', '1,95,000 kms', '48,008 kms', '48,247 kms',\n",
       "       '9,400 kms', '64,000 kms', '2,137 kms', '10,544 kms', '49,500 kms',\n",
       "       '1,47,000 kms', '90,001 kms', '48,006 kms', '74,000 kms',\n",
       "       '85,000 kms', '29,500 kms', '39,700 kms', '67,000 kms',\n",
       "       '19,336 kms', '60,105 kms', '45,933 kms', '1,02,563 kms',\n",
       "       '28,600 kms', '41,800 kms', '1,16,000 kms', '42,590 kms',\n",
       "       '7,400 kms', '54,500 kms', '76,000 kms', '00 kms', '11,523 kms',\n",
       "       '38,600 kms', '95,500 kms', '37,458 kms', '85,960 kms',\n",
       "       '12,516 kms', '30,600 kms', '2,550 kms', '62,500 kms',\n",
       "       '69,000 kms', '28,400 kms', '68,485 kms', '3,500 kms',\n",
       "       '85,455 kms', '63,000 kms', '1,600 kms', '77,000 kms',\n",
       "       '26,500 kms', '2,875 kms', '13,900 kms', '1,500 kms', '2,450 kms',\n",
       "       '1,625 kms', '33,400 kms', '60,123 kms', '38,900 kms',\n",
       "       '1,37,495 kms', '91,200 kms', '1,46,000 kms', '1,00,800 kms',\n",
       "       '2,100 kms', '2,500 kms', '1,32,000 kms', 'Petrol'], dtype=object)"
      ]
     },
     "execution_count": 11,
     "metadata": {},
     "output_type": "execute_result"
    }
   ],
   "source": [
    "car_data['kms_driven'].unique()"
   ]
  },
  {
   "cell_type": "markdown",
   "id": "8f2fa7ae-beec-4596-9131-fe65bde3c8ca",
   "metadata": {},
   "source": [
    "year\n",
    "-> there are so many garbage values in year \n",
    "-> we have to remove that garbage values \n",
    "--> convert to integer\n",
    "\n",
    "price\n",
    "--> convert into integer \n",
    "--> there is a value 'Ask for price' we have to sort it out.\n",
    "\n",
    "kms driven:\n",
    "--> convert to integer and remove nan values...\n",
    "\n",
    "fuel type\n",
    "--> nan value in fuel so sort it out \n",
    "\n",
    "company\n",
    "--> same as year \n",
    "\n"
   ]
  },
  {
   "cell_type": "markdown",
   "id": "b0e99b54-2693-4e72-8897-e1890dc37ad3",
   "metadata": {},
   "source": [
    "# CLEANING PROCESS :"
   ]
  },
  {
   "cell_type": "code",
   "execution_count": 12,
   "id": "4dc4bdfa-a482-4a63-a455-f74e800be592",
   "metadata": {},
   "outputs": [],
   "source": [
    "#lets have backup dataset \n",
    "car_dataset = car_data.copy()"
   ]
  },
  {
   "cell_type": "code",
   "execution_count": 13,
   "id": "f8ddfcf4-83fb-4578-98c9-3e98e08c48d9",
   "metadata": {},
   "outputs": [
    {
     "data": {
      "text/html": [
       "<div>\n",
       "<style scoped>\n",
       "    .dataframe tbody tr th:only-of-type {\n",
       "        vertical-align: middle;\n",
       "    }\n",
       "\n",
       "    .dataframe tbody tr th {\n",
       "        vertical-align: top;\n",
       "    }\n",
       "\n",
       "    .dataframe thead th {\n",
       "        text-align: right;\n",
       "    }\n",
       "</style>\n",
       "<table border=\"1\" class=\"dataframe\">\n",
       "  <thead>\n",
       "    <tr style=\"text-align: right;\">\n",
       "      <th></th>\n",
       "      <th>name</th>\n",
       "      <th>company</th>\n",
       "      <th>year</th>\n",
       "      <th>Price</th>\n",
       "      <th>kms_driven</th>\n",
       "      <th>fuel_type</th>\n",
       "    </tr>\n",
       "  </thead>\n",
       "  <tbody>\n",
       "    <tr>\n",
       "      <th>0</th>\n",
       "      <td>Hyundai Santro Xing XO eRLX Euro III</td>\n",
       "      <td>Hyundai</td>\n",
       "      <td>2007</td>\n",
       "      <td>80,000</td>\n",
       "      <td>45,000 kms</td>\n",
       "      <td>Petrol</td>\n",
       "    </tr>\n",
       "    <tr>\n",
       "      <th>1</th>\n",
       "      <td>Mahindra Jeep CL550 MDI</td>\n",
       "      <td>Mahindra</td>\n",
       "      <td>2006</td>\n",
       "      <td>4,25,000</td>\n",
       "      <td>40 kms</td>\n",
       "      <td>Diesel</td>\n",
       "    </tr>\n",
       "    <tr>\n",
       "      <th>2</th>\n",
       "      <td>Maruti Suzuki Alto 800 Vxi</td>\n",
       "      <td>Maruti</td>\n",
       "      <td>2018</td>\n",
       "      <td>Ask For Price</td>\n",
       "      <td>22,000 kms</td>\n",
       "      <td>Petrol</td>\n",
       "    </tr>\n",
       "    <tr>\n",
       "      <th>3</th>\n",
       "      <td>Hyundai Grand i10 Magna 1.2 Kappa VTVT</td>\n",
       "      <td>Hyundai</td>\n",
       "      <td>2014</td>\n",
       "      <td>3,25,000</td>\n",
       "      <td>28,000 kms</td>\n",
       "      <td>Petrol</td>\n",
       "    </tr>\n",
       "    <tr>\n",
       "      <th>4</th>\n",
       "      <td>Ford EcoSport Titanium 1.5L TDCi</td>\n",
       "      <td>Ford</td>\n",
       "      <td>2014</td>\n",
       "      <td>5,75,000</td>\n",
       "      <td>36,000 kms</td>\n",
       "      <td>Diesel</td>\n",
       "    </tr>\n",
       "    <tr>\n",
       "      <th>5</th>\n",
       "      <td>Ford EcoSport Titanium 1.5L TDCi</td>\n",
       "      <td>Ford</td>\n",
       "      <td>2015</td>\n",
       "      <td>Ask For Price</td>\n",
       "      <td>59,000 kms</td>\n",
       "      <td>Diesel</td>\n",
       "    </tr>\n",
       "    <tr>\n",
       "      <th>6</th>\n",
       "      <td>Ford Figo</td>\n",
       "      <td>Ford</td>\n",
       "      <td>2012</td>\n",
       "      <td>1,75,000</td>\n",
       "      <td>41,000 kms</td>\n",
       "      <td>Diesel</td>\n",
       "    </tr>\n",
       "    <tr>\n",
       "      <th>7</th>\n",
       "      <td>Hyundai Eon</td>\n",
       "      <td>Hyundai</td>\n",
       "      <td>2013</td>\n",
       "      <td>1,90,000</td>\n",
       "      <td>25,000 kms</td>\n",
       "      <td>Petrol</td>\n",
       "    </tr>\n",
       "    <tr>\n",
       "      <th>8</th>\n",
       "      <td>Ford EcoSport Ambiente 1.5L TDCi</td>\n",
       "      <td>Ford</td>\n",
       "      <td>2016</td>\n",
       "      <td>8,30,000</td>\n",
       "      <td>24,530 kms</td>\n",
       "      <td>Diesel</td>\n",
       "    </tr>\n",
       "    <tr>\n",
       "      <th>9</th>\n",
       "      <td>Maruti Suzuki Alto K10 VXi AMT</td>\n",
       "      <td>Maruti</td>\n",
       "      <td>2015</td>\n",
       "      <td>2,50,000</td>\n",
       "      <td>60,000 kms</td>\n",
       "      <td>Petrol</td>\n",
       "    </tr>\n",
       "  </tbody>\n",
       "</table>\n",
       "</div>"
      ],
      "text/plain": [
       "                                     name   company  year          Price  \\\n",
       "0    Hyundai Santro Xing XO eRLX Euro III   Hyundai  2007         80,000   \n",
       "1                 Mahindra Jeep CL550 MDI  Mahindra  2006       4,25,000   \n",
       "2              Maruti Suzuki Alto 800 Vxi    Maruti  2018  Ask For Price   \n",
       "3  Hyundai Grand i10 Magna 1.2 Kappa VTVT   Hyundai  2014       3,25,000   \n",
       "4        Ford EcoSport Titanium 1.5L TDCi      Ford  2014       5,75,000   \n",
       "5        Ford EcoSport Titanium 1.5L TDCi      Ford  2015  Ask For Price   \n",
       "6                               Ford Figo      Ford  2012       1,75,000   \n",
       "7                             Hyundai Eon   Hyundai  2013       1,90,000   \n",
       "8        Ford EcoSport Ambiente 1.5L TDCi      Ford  2016       8,30,000   \n",
       "9          Maruti Suzuki Alto K10 VXi AMT    Maruti  2015       2,50,000   \n",
       "\n",
       "   kms_driven fuel_type  \n",
       "0  45,000 kms    Petrol  \n",
       "1      40 kms    Diesel  \n",
       "2  22,000 kms    Petrol  \n",
       "3  28,000 kms    Petrol  \n",
       "4  36,000 kms    Diesel  \n",
       "5  59,000 kms    Diesel  \n",
       "6  41,000 kms    Diesel  \n",
       "7  25,000 kms    Petrol  \n",
       "8  24,530 kms    Diesel  \n",
       "9  60,000 kms    Petrol  "
      ]
     },
     "execution_count": 13,
     "metadata": {},
     "output_type": "execute_result"
    }
   ],
   "source": [
    "car_dataset.head(10)"
   ]
  },
  {
   "cell_type": "code",
   "execution_count": 14,
   "id": "6deeeaf6-0c43-46e9-922d-c9895d777a9c",
   "metadata": {},
   "outputs": [],
   "source": [
    "car_dataset = car_dataset[car_dataset['year'].str.isnumeric()]"
   ]
  },
  {
   "cell_type": "markdown",
   "id": "f51991b9-1304-422b-8b3e-86f396dcaa47",
   "metadata": {},
   "source": [
    "# cleaning in Year column.."
   ]
  },
  {
   "cell_type": "code",
   "execution_count": 15,
   "id": "b0ac2a54-4b4f-4be7-a401-2b568e394dce",
   "metadata": {},
   "outputs": [],
   "source": [
    "car_dataset['year'] = car_dataset['year'].astype(int)"
   ]
  },
  {
   "cell_type": "code",
   "execution_count": 16,
   "id": "c2cf7f37-2746-41d2-8c75-7c0c7b026c36",
   "metadata": {},
   "outputs": [
    {
     "data": {
      "text/plain": [
       "0    2007\n",
       "1    2006\n",
       "2    2018\n",
       "3    2014\n",
       "4    2014\n",
       "Name: year, dtype: int32"
      ]
     },
     "execution_count": 16,
     "metadata": {},
     "output_type": "execute_result"
    }
   ],
   "source": [
    "car_dataset['year'].head()"
   ]
  },
  {
   "cell_type": "markdown",
   "id": "70f0fd9f-2f65-4617-8821-5bc98dd9c602",
   "metadata": {},
   "source": [
    "# cleaning in price column"
   ]
  },
  {
   "cell_type": "code",
   "execution_count": 17,
   "id": "87b47038-6034-45eb-9a5f-6813c16ee172",
   "metadata": {},
   "outputs": [],
   "source": [
    "car_dataset['Price'] = car_dataset['Price'].str.replace(',','')"
   ]
  },
  {
   "cell_type": "code",
   "execution_count": 18,
   "id": "e6873a12-a8a6-4b90-a7fa-87820876e5d1",
   "metadata": {},
   "outputs": [],
   "source": [
    "car_dataset = car_dataset[car_dataset['Price'].str.isnumeric()]"
   ]
  },
  {
   "cell_type": "code",
   "execution_count": 19,
   "id": "94e27d0b-a73c-4e55-b446-49f2efbfcacd",
   "metadata": {},
   "outputs": [],
   "source": [
    "car_dataset['Price'] = car_dataset['Price'].astype(int)"
   ]
  },
  {
   "cell_type": "code",
   "execution_count": 20,
   "id": "3fb2e612-fbd5-4c30-8eb6-468dfe0660e1",
   "metadata": {},
   "outputs": [
    {
     "data": {
      "text/plain": [
       "0     80000\n",
       "1    425000\n",
       "3    325000\n",
       "4    575000\n",
       "6    175000\n",
       "Name: Price, dtype: int32"
      ]
     },
     "execution_count": 20,
     "metadata": {},
     "output_type": "execute_result"
    }
   ],
   "source": [
    "car_dataset['Price'].head()"
   ]
  },
  {
   "cell_type": "code",
   "execution_count": 21,
   "id": "e9bb9f96-d81d-4cf2-be97-21816ff40ae3",
   "metadata": {},
   "outputs": [
    {
     "data": {
      "text/plain": [
       "(819, 6)"
      ]
     },
     "execution_count": 21,
     "metadata": {},
     "output_type": "execute_result"
    }
   ],
   "source": [
    "car_dataset.shape"
   ]
  },
  {
   "cell_type": "markdown",
   "id": "4eda5b90-e700-4a6f-93b3-26a82fbac562",
   "metadata": {},
   "source": [
    "# cleaning in kms driven column"
   ]
  },
  {
   "cell_type": "code",
   "execution_count": 22,
   "id": "34ec7092-32c5-4e75-a296-6d624a6679e3",
   "metadata": {},
   "outputs": [
    {
     "data": {
      "text/plain": [
       "array(['45,000 kms', '40 kms', '28,000 kms', '36,000 kms', '41,000 kms',\n",
       "       '25,000 kms', '24,530 kms', '60,000 kms', '30,000 kms',\n",
       "       '32,000 kms', '48,660 kms', '4,000 kms', '16,934 kms',\n",
       "       '43,000 kms', '35,550 kms', '39,522 kms', '39,000 kms',\n",
       "       '55,000 kms', '72,000 kms', '15,975 kms', '70,000 kms',\n",
       "       '23,452 kms', '35,522 kms', '48,508 kms', '15,487 kms',\n",
       "       '82,000 kms', '20,000 kms', '68,000 kms', '38,000 kms',\n",
       "       '27,000 kms', '33,000 kms', '46,000 kms', '16,000 kms',\n",
       "       '47,000 kms', '35,000 kms', '30,874 kms', '15,000 kms',\n",
       "       '29,685 kms', '1,30,000 kms', '19,000 kms', '54,000 kms',\n",
       "       '13,000 kms', '38,200 kms', '22,000 kms', '50,000 kms',\n",
       "       '13,500 kms', '3,600 kms', '45,863 kms', '60,500 kms',\n",
       "       '12,500 kms', '18,000 kms', '13,349 kms', '29,000 kms',\n",
       "       '44,000 kms', '42,000 kms', '14,000 kms', '49,000 kms',\n",
       "       '36,200 kms', '51,000 kms', '1,04,000 kms', '33,333 kms',\n",
       "       '33,600 kms', '5,600 kms', '7,500 kms', '26,000 kms', '24,330 kms',\n",
       "       '65,480 kms', '2,00,000 kms', '59,000 kms', '99,000 kms',\n",
       "       '2,800 kms', '21,000 kms', '11,000 kms', '66,000 kms', '3,000 kms',\n",
       "       '7,000 kms', '38,500 kms', '37,200 kms', '43,200 kms',\n",
       "       '24,800 kms', '45,872 kms', '40,000 kms', '11,400 kms',\n",
       "       '97,200 kms', '52,000 kms', '31,000 kms', '1,75,430 kms',\n",
       "       '37,000 kms', '65,000 kms', '3,350 kms', '75,000 kms',\n",
       "       '62,000 kms', '73,000 kms', '2,200 kms', '54,870 kms',\n",
       "       '34,580 kms', '97,000 kms', '60 kms', '80,200 kms', '3,200 kms',\n",
       "       '0,000 kms', '5,000 kms', '588 kms', '71,200 kms', '1,75,400 kms',\n",
       "       '9,300 kms', '56,758 kms', '10,000 kms', '56,450 kms',\n",
       "       '56,000 kms', '32,700 kms', '9,000 kms', '73 kms', '1,60,000 kms',\n",
       "       '58,559 kms', '57,000 kms', '1,70,000 kms', '80,000 kms',\n",
       "       '6,821 kms', '23,000 kms', '34,000 kms', '1,800 kms',\n",
       "       '4,00,000 kms', '48,000 kms', '90,000 kms', '12,000 kms',\n",
       "       '69,900 kms', '1,66,000 kms', '122 kms', '0 kms', '36,469 kms',\n",
       "       '7,800 kms', '24,695 kms', '15,141 kms', '59,910 kms',\n",
       "       '1,00,000 kms', '4,500 kms', '1,29,000 kms', '300 kms',\n",
       "       '1,31,000 kms', '1,11,111 kms', '59,466 kms', '25,500 kms',\n",
       "       '44,005 kms', '2,110 kms', '43,222 kms', '1,00,200 kms', '65 kms',\n",
       "       '1,40,000 kms', '1,03,553 kms', '58,000 kms', '1,20,000 kms',\n",
       "       '49,800 kms', '100 kms', '81,876 kms', '6,020 kms', '55,700 kms',\n",
       "       '18,500 kms', '53,000 kms', '35,500 kms', '22,134 kms',\n",
       "       '1,000 kms', '8,500 kms', '87,000 kms', '6,000 kms', '8,000 kms',\n",
       "       '55,800 kms', '56,400 kms', '72,160 kms', '11,500 kms',\n",
       "       '1,33,000 kms', '2,000 kms', '88,000 kms', '65,422 kms',\n",
       "       '1,17,000 kms', '1,50,000 kms', '10,750 kms', '6,800 kms',\n",
       "       '9,800 kms', '57,923 kms', '30,201 kms', '6,200 kms', '37,518 kms',\n",
       "       '24,652 kms', '383 kms', '95,000 kms', '3,528 kms', '52,500 kms',\n",
       "       '47,900 kms', '52,800 kms', '1,95,000 kms', '48,008 kms',\n",
       "       '48,247 kms', '9,400 kms', '64,000 kms', '2,137 kms', '10,544 kms',\n",
       "       '1,47,000 kms', '90,001 kms', '48,006 kms', '74,000 kms',\n",
       "       '85,000 kms', '29,500 kms', '39,700 kms', '67,000 kms',\n",
       "       '19,336 kms', '60,105 kms', '45,933 kms', '1,02,563 kms',\n",
       "       '28,600 kms', '41,800 kms', '1,16,000 kms', '42,590 kms',\n",
       "       '7,400 kms', '54,500 kms', '76,000 kms', '00 kms', '11,523 kms',\n",
       "       '38,600 kms', '95,500 kms', '37,458 kms', '85,960 kms',\n",
       "       '12,516 kms', '30,600 kms', '2,550 kms', '62,500 kms',\n",
       "       '69,000 kms', '28,400 kms', '68,485 kms', '3,500 kms',\n",
       "       '85,455 kms', '63,000 kms', '1,600 kms', '77,000 kms',\n",
       "       '26,500 kms', '2,875 kms', '13,900 kms', '1,500 kms', '2,450 kms',\n",
       "       '1,625 kms', '33,400 kms', '60,123 kms', '1,37,495 kms',\n",
       "       '91,200 kms', '1,46,000 kms', '1,00,800 kms', '2,100 kms',\n",
       "       '2,500 kms', '1,32,000 kms', 'Petrol'], dtype=object)"
      ]
     },
     "execution_count": 22,
     "metadata": {},
     "output_type": "execute_result"
    }
   ],
   "source": [
    "car_dataset['kms_driven'].unique()"
   ]
  },
  {
   "cell_type": "markdown",
   "id": "5c872ea5-bc14-460a-a496-e2a696566db3",
   "metadata": {},
   "source": [
    "here we have kms in the column and certain other junk data so we have to clean the data by only having integer  "
   ]
  },
  {
   "cell_type": "code",
   "execution_count": 23,
   "id": "58a5d8f2-b803-41cb-9581-6b39c92af3ba",
   "metadata": {},
   "outputs": [],
   "source": [
    "car_dataset['kms_driven'] = car_dataset['kms_driven'].str.split().str[0]"
   ]
  },
  {
   "cell_type": "code",
   "execution_count": 24,
   "id": "198fed60-68c5-43d3-a1fc-bd69e9c3cadb",
   "metadata": {},
   "outputs": [],
   "source": [
    "car_dataset['kms_driven'] = car_dataset['kms_driven'].str.replace(',','')"
   ]
  },
  {
   "cell_type": "code",
   "execution_count": 25,
   "id": "75ff4fd5-e839-40e3-a39c-6e710f39da6a",
   "metadata": {},
   "outputs": [
    {
     "data": {
      "text/plain": [
       "0    45000\n",
       "1       40\n",
       "3    28000\n",
       "4    36000\n",
       "6    41000\n",
       "Name: kms_driven, dtype: object"
      ]
     },
     "execution_count": 25,
     "metadata": {},
     "output_type": "execute_result"
    }
   ],
   "source": [
    "car_dataset['kms_driven'].head()"
   ]
  },
  {
   "cell_type": "code",
   "execution_count": 26,
   "id": "02ff611b-8ae8-498e-8684-47032ed801d4",
   "metadata": {},
   "outputs": [],
   "source": [
    "car_dataset = car_dataset[car_dataset['kms_driven'].str.isnumeric()]"
   ]
  },
  {
   "cell_type": "code",
   "execution_count": 27,
   "id": "ebbb7b38-e39e-4c13-9859-71d8a818a34a",
   "metadata": {},
   "outputs": [],
   "source": [
    "car_dataset['kms_driven'] = car_dataset['kms_driven'].astype(int)"
   ]
  },
  {
   "cell_type": "code",
   "execution_count": 28,
   "id": "df95ef2d-26c3-4390-9441-cbacda818a67",
   "metadata": {},
   "outputs": [
    {
     "name": "stdout",
     "output_type": "stream",
     "text": [
      "<class 'pandas.core.frame.DataFrame'>\n",
      "Index: 817 entries, 0 to 889\n",
      "Data columns (total 6 columns):\n",
      " #   Column      Non-Null Count  Dtype \n",
      "---  ------      --------------  ----- \n",
      " 0   name        817 non-null    object\n",
      " 1   company     817 non-null    object\n",
      " 2   year        817 non-null    int32 \n",
      " 3   Price       817 non-null    int32 \n",
      " 4   kms_driven  817 non-null    int32 \n",
      " 5   fuel_type   816 non-null    object\n",
      "dtypes: int32(3), object(3)\n",
      "memory usage: 35.1+ KB\n"
     ]
    }
   ],
   "source": [
    "car_dataset.info()"
   ]
  },
  {
   "cell_type": "markdown",
   "id": "5d6788d0-4c17-4dba-a1f5-6c7eada9527a",
   "metadata": {},
   "source": [
    "# cleaning in fuel type"
   ]
  },
  {
   "cell_type": "code",
   "execution_count": 29,
   "id": "8c61acef-331f-4443-9880-3ce0c2f8a041",
   "metadata": {},
   "outputs": [],
   "source": [
    "car_dataset = car_dataset[~car_dataset['fuel_type'].isna()]"
   ]
  },
  {
   "cell_type": "code",
   "execution_count": 30,
   "id": "ed167e42-e10e-4471-aa36-3eaf0a5a4900",
   "metadata": {},
   "outputs": [
    {
     "name": "stdout",
     "output_type": "stream",
     "text": [
      "<class 'pandas.core.frame.DataFrame'>\n",
      "Index: 816 entries, 0 to 889\n",
      "Data columns (total 6 columns):\n",
      " #   Column      Non-Null Count  Dtype \n",
      "---  ------      --------------  ----- \n",
      " 0   name        816 non-null    object\n",
      " 1   company     816 non-null    object\n",
      " 2   year        816 non-null    int32 \n",
      " 3   Price       816 non-null    int32 \n",
      " 4   kms_driven  816 non-null    int32 \n",
      " 5   fuel_type   816 non-null    object\n",
      "dtypes: int32(3), object(3)\n",
      "memory usage: 35.1+ KB\n"
     ]
    }
   ],
   "source": [
    "car_dataset.info()"
   ]
  },
  {
   "cell_type": "markdown",
   "id": "d3ce3ffc-1770-45cd-8f08-4a7988058b28",
   "metadata": {},
   "source": [
    "# cleaning in name"
   ]
  },
  {
   "cell_type": "code",
   "execution_count": 31,
   "id": "a8efa471-a7cd-44e5-aad2-799a9f019001",
   "metadata": {},
   "outputs": [],
   "source": [
    "car_dataset['name'] = car_dataset['name'].str.split().str[0:3].str.join(' ')"
   ]
  },
  {
   "cell_type": "code",
   "execution_count": 32,
   "id": "77140cec-e784-486f-a422-2e6cbdcee867",
   "metadata": {},
   "outputs": [
    {
     "data": {
      "text/plain": [
       "(816, 6)"
      ]
     },
     "execution_count": 32,
     "metadata": {},
     "output_type": "execute_result"
    }
   ],
   "source": [
    "car_dataset.shape"
   ]
  },
  {
   "cell_type": "code",
   "execution_count": 33,
   "id": "9413db0a-6117-4a0f-bb9c-855dcca54314",
   "metadata": {},
   "outputs": [],
   "source": [
    "car_dataset = car_dataset.reset_index(drop = True)"
   ]
  },
  {
   "cell_type": "code",
   "execution_count": 34,
   "id": "b3097dc1-5db3-460f-9ca9-32fe26770c3e",
   "metadata": {},
   "outputs": [
    {
     "data": {
      "text/html": [
       "<div>\n",
       "<style scoped>\n",
       "    .dataframe tbody tr th:only-of-type {\n",
       "        vertical-align: middle;\n",
       "    }\n",
       "\n",
       "    .dataframe tbody tr th {\n",
       "        vertical-align: top;\n",
       "    }\n",
       "\n",
       "    .dataframe thead th {\n",
       "        text-align: right;\n",
       "    }\n",
       "</style>\n",
       "<table border=\"1\" class=\"dataframe\">\n",
       "  <thead>\n",
       "    <tr style=\"text-align: right;\">\n",
       "      <th></th>\n",
       "      <th>name</th>\n",
       "      <th>company</th>\n",
       "      <th>year</th>\n",
       "      <th>Price</th>\n",
       "      <th>kms_driven</th>\n",
       "      <th>fuel_type</th>\n",
       "    </tr>\n",
       "  </thead>\n",
       "  <tbody>\n",
       "    <tr>\n",
       "      <th>0</th>\n",
       "      <td>Hyundai Santro Xing</td>\n",
       "      <td>Hyundai</td>\n",
       "      <td>2007</td>\n",
       "      <td>80000</td>\n",
       "      <td>45000</td>\n",
       "      <td>Petrol</td>\n",
       "    </tr>\n",
       "    <tr>\n",
       "      <th>1</th>\n",
       "      <td>Mahindra Jeep CL550</td>\n",
       "      <td>Mahindra</td>\n",
       "      <td>2006</td>\n",
       "      <td>425000</td>\n",
       "      <td>40</td>\n",
       "      <td>Diesel</td>\n",
       "    </tr>\n",
       "    <tr>\n",
       "      <th>2</th>\n",
       "      <td>Hyundai Grand i10</td>\n",
       "      <td>Hyundai</td>\n",
       "      <td>2014</td>\n",
       "      <td>325000</td>\n",
       "      <td>28000</td>\n",
       "      <td>Petrol</td>\n",
       "    </tr>\n",
       "    <tr>\n",
       "      <th>3</th>\n",
       "      <td>Ford EcoSport Titanium</td>\n",
       "      <td>Ford</td>\n",
       "      <td>2014</td>\n",
       "      <td>575000</td>\n",
       "      <td>36000</td>\n",
       "      <td>Diesel</td>\n",
       "    </tr>\n",
       "    <tr>\n",
       "      <th>4</th>\n",
       "      <td>Ford Figo</td>\n",
       "      <td>Ford</td>\n",
       "      <td>2012</td>\n",
       "      <td>175000</td>\n",
       "      <td>41000</td>\n",
       "      <td>Diesel</td>\n",
       "    </tr>\n",
       "    <tr>\n",
       "      <th>...</th>\n",
       "      <td>...</td>\n",
       "      <td>...</td>\n",
       "      <td>...</td>\n",
       "      <td>...</td>\n",
       "      <td>...</td>\n",
       "      <td>...</td>\n",
       "    </tr>\n",
       "    <tr>\n",
       "      <th>811</th>\n",
       "      <td>Maruti Suzuki Ritz</td>\n",
       "      <td>Maruti</td>\n",
       "      <td>2011</td>\n",
       "      <td>270000</td>\n",
       "      <td>50000</td>\n",
       "      <td>Petrol</td>\n",
       "    </tr>\n",
       "    <tr>\n",
       "      <th>812</th>\n",
       "      <td>Tata Indica V2</td>\n",
       "      <td>Tata</td>\n",
       "      <td>2009</td>\n",
       "      <td>110000</td>\n",
       "      <td>30000</td>\n",
       "      <td>Diesel</td>\n",
       "    </tr>\n",
       "    <tr>\n",
       "      <th>813</th>\n",
       "      <td>Toyota Corolla Altis</td>\n",
       "      <td>Toyota</td>\n",
       "      <td>2009</td>\n",
       "      <td>300000</td>\n",
       "      <td>132000</td>\n",
       "      <td>Petrol</td>\n",
       "    </tr>\n",
       "    <tr>\n",
       "      <th>814</th>\n",
       "      <td>Tata Zest XM</td>\n",
       "      <td>Tata</td>\n",
       "      <td>2018</td>\n",
       "      <td>260000</td>\n",
       "      <td>27000</td>\n",
       "      <td>Diesel</td>\n",
       "    </tr>\n",
       "    <tr>\n",
       "      <th>815</th>\n",
       "      <td>Mahindra Quanto C8</td>\n",
       "      <td>Mahindra</td>\n",
       "      <td>2013</td>\n",
       "      <td>390000</td>\n",
       "      <td>40000</td>\n",
       "      <td>Diesel</td>\n",
       "    </tr>\n",
       "  </tbody>\n",
       "</table>\n",
       "<p>816 rows × 6 columns</p>\n",
       "</div>"
      ],
      "text/plain": [
       "                       name   company  year   Price  kms_driven fuel_type\n",
       "0       Hyundai Santro Xing   Hyundai  2007   80000       45000    Petrol\n",
       "1       Mahindra Jeep CL550  Mahindra  2006  425000          40    Diesel\n",
       "2         Hyundai Grand i10   Hyundai  2014  325000       28000    Petrol\n",
       "3    Ford EcoSport Titanium      Ford  2014  575000       36000    Diesel\n",
       "4                 Ford Figo      Ford  2012  175000       41000    Diesel\n",
       "..                      ...       ...   ...     ...         ...       ...\n",
       "811      Maruti Suzuki Ritz    Maruti  2011  270000       50000    Petrol\n",
       "812          Tata Indica V2      Tata  2009  110000       30000    Diesel\n",
       "813    Toyota Corolla Altis    Toyota  2009  300000      132000    Petrol\n",
       "814            Tata Zest XM      Tata  2018  260000       27000    Diesel\n",
       "815      Mahindra Quanto C8  Mahindra  2013  390000       40000    Diesel\n",
       "\n",
       "[816 rows x 6 columns]"
      ]
     },
     "execution_count": 34,
     "metadata": {},
     "output_type": "execute_result"
    }
   ],
   "source": [
    "car_dataset"
   ]
  },
  {
   "cell_type": "code",
   "execution_count": 35,
   "id": "794d1321-9ceb-4313-9ac7-5b2563bf7458",
   "metadata": {},
   "outputs": [],
   "source": [
    "car_dataset = car_dataset[car_dataset['Price']<6e6].reset_index(drop = True)"
   ]
  },
  {
   "cell_type": "code",
   "execution_count": 36,
   "id": "326cc2cd-601b-42b2-829a-5b62ae91cc82",
   "metadata": {},
   "outputs": [],
   "source": [
    "car_dataset[car_dataset['company']=='Maruti'].to_csv('maruti_cars.csv')"
   ]
  },
  {
   "cell_type": "code",
   "execution_count": 37,
   "id": "7c549029-7ad6-49b5-ad09-eb13bb62ee11",
   "metadata": {},
   "outputs": [],
   "source": [
    "X = car_dataset.drop(columns='Price')\n",
    "y = car_dataset['Price']"
   ]
  },
  {
   "cell_type": "code",
   "execution_count": 38,
   "id": "1f91b51e-79bd-44c9-91e8-2fc3188bd2a5",
   "metadata": {},
   "outputs": [
    {
     "data": {
      "text/html": [
       "<div>\n",
       "<style scoped>\n",
       "    .dataframe tbody tr th:only-of-type {\n",
       "        vertical-align: middle;\n",
       "    }\n",
       "\n",
       "    .dataframe tbody tr th {\n",
       "        vertical-align: top;\n",
       "    }\n",
       "\n",
       "    .dataframe thead th {\n",
       "        text-align: right;\n",
       "    }\n",
       "</style>\n",
       "<table border=\"1\" class=\"dataframe\">\n",
       "  <thead>\n",
       "    <tr style=\"text-align: right;\">\n",
       "      <th></th>\n",
       "      <th>name</th>\n",
       "      <th>company</th>\n",
       "      <th>year</th>\n",
       "      <th>kms_driven</th>\n",
       "      <th>fuel_type</th>\n",
       "    </tr>\n",
       "  </thead>\n",
       "  <tbody>\n",
       "    <tr>\n",
       "      <th>0</th>\n",
       "      <td>Hyundai Santro Xing</td>\n",
       "      <td>Hyundai</td>\n",
       "      <td>2007</td>\n",
       "      <td>45000</td>\n",
       "      <td>Petrol</td>\n",
       "    </tr>\n",
       "    <tr>\n",
       "      <th>1</th>\n",
       "      <td>Mahindra Jeep CL550</td>\n",
       "      <td>Mahindra</td>\n",
       "      <td>2006</td>\n",
       "      <td>40</td>\n",
       "      <td>Diesel</td>\n",
       "    </tr>\n",
       "    <tr>\n",
       "      <th>2</th>\n",
       "      <td>Hyundai Grand i10</td>\n",
       "      <td>Hyundai</td>\n",
       "      <td>2014</td>\n",
       "      <td>28000</td>\n",
       "      <td>Petrol</td>\n",
       "    </tr>\n",
       "    <tr>\n",
       "      <th>3</th>\n",
       "      <td>Ford EcoSport Titanium</td>\n",
       "      <td>Ford</td>\n",
       "      <td>2014</td>\n",
       "      <td>36000</td>\n",
       "      <td>Diesel</td>\n",
       "    </tr>\n",
       "    <tr>\n",
       "      <th>4</th>\n",
       "      <td>Ford Figo</td>\n",
       "      <td>Ford</td>\n",
       "      <td>2012</td>\n",
       "      <td>41000</td>\n",
       "      <td>Diesel</td>\n",
       "    </tr>\n",
       "  </tbody>\n",
       "</table>\n",
       "</div>"
      ],
      "text/plain": [
       "                     name   company  year  kms_driven fuel_type\n",
       "0     Hyundai Santro Xing   Hyundai  2007       45000    Petrol\n",
       "1     Mahindra Jeep CL550  Mahindra  2006          40    Diesel\n",
       "2       Hyundai Grand i10   Hyundai  2014       28000    Petrol\n",
       "3  Ford EcoSport Titanium      Ford  2014       36000    Diesel\n",
       "4               Ford Figo      Ford  2012       41000    Diesel"
      ]
     },
     "execution_count": 38,
     "metadata": {},
     "output_type": "execute_result"
    }
   ],
   "source": [
    "X.head()"
   ]
  },
  {
   "cell_type": "code",
   "execution_count": 39,
   "id": "6151d781-4e18-4a39-87f0-1be0329b1571",
   "metadata": {},
   "outputs": [],
   "source": [
    "car_dataset.to_csv(\"cleaned_car.csv\")"
   ]
  },
  {
   "cell_type": "code",
   "execution_count": 63,
   "id": "d81b27c7-f9c7-4664-b63c-ce2210760878",
   "metadata": {},
   "outputs": [
    {
     "data": {
      "text/plain": [
       "name          0\n",
       "company       0\n",
       "year          0\n",
       "Price         0\n",
       "kms_driven    0\n",
       "fuel_type     0\n",
       "dtype: int64"
      ]
     },
     "execution_count": 63,
     "metadata": {},
     "output_type": "execute_result"
    }
   ],
   "source": [
    "car_dataset.isnull().sum()"
   ]
  },
  {
   "cell_type": "code",
   "execution_count": 40,
   "id": "db50029d-eb04-451e-87ed-ab27e81dc909",
   "metadata": {},
   "outputs": [],
   "source": [
    "car_dataset[car_dataset['company']=='Hyundai'].to_csv('hyundai_cars.csv')"
   ]
  },
  {
   "cell_type": "markdown",
   "id": "a9a07603-041e-40cd-8389-06c924fd5dde",
   "metadata": {},
   "source": [
    "# MODEL TRAINING"
   ]
  },
  {
   "cell_type": "code",
   "execution_count": 41,
   "id": "400e0bde-8617-445c-88c7-ee6de14ec908",
   "metadata": {},
   "outputs": [],
   "source": [
    "from sklearn.model_selection import train_test_split"
   ]
  },
  {
   "cell_type": "code",
   "execution_count": 42,
   "id": "634f5d23-bcc6-459e-a77d-4bfade2841c1",
   "metadata": {},
   "outputs": [],
   "source": [
    "X_train, X_test, y_train, y_test = train_test_split(X, y, test_size=0.2, random_state=712) # here maximum r2_score was getting at random_state = 712"
   ]
  },
  {
   "cell_type": "code",
   "execution_count": 43,
   "id": "b203777c-a267-4b29-a020-ecd05d411469",
   "metadata": {},
   "outputs": [],
   "source": [
    "from sklearn.linear_model import LinearRegression\n",
    "from sklearn.metrics import r2_score\n",
    "from sklearn.preprocessing import OneHotEncoder\n",
    "from sklearn.compose import make_column_transformer\n",
    "from sklearn.pipeline import make_pipeline\n",
    "from sklearn import set_config"
   ]
  },
  {
   "cell_type": "code",
   "execution_count": 44,
   "id": "8a5eab74-c1be-473a-acab-e0f20c2ffcde",
   "metadata": {},
   "outputs": [],
   "source": [
    "set_config(display='diagram')"
   ]
  },
  {
   "cell_type": "code",
   "execution_count": 45,
   "id": "1188181a-0ca0-402d-88ab-67f397a44d9d",
   "metadata": {},
   "outputs": [
    {
     "data": {
      "text/html": [
       "<style>#sk-container-id-1 {color: black;}#sk-container-id-1 pre{padding: 0;}#sk-container-id-1 div.sk-toggleable {background-color: white;}#sk-container-id-1 label.sk-toggleable__label {cursor: pointer;display: block;width: 100%;margin-bottom: 0;padding: 0.3em;box-sizing: border-box;text-align: center;}#sk-container-id-1 label.sk-toggleable__label-arrow:before {content: \"▸\";float: left;margin-right: 0.25em;color: #696969;}#sk-container-id-1 label.sk-toggleable__label-arrow:hover:before {color: black;}#sk-container-id-1 div.sk-estimator:hover label.sk-toggleable__label-arrow:before {color: black;}#sk-container-id-1 div.sk-toggleable__content {max-height: 0;max-width: 0;overflow: hidden;text-align: left;background-color: #f0f8ff;}#sk-container-id-1 div.sk-toggleable__content pre {margin: 0.2em;color: black;border-radius: 0.25em;background-color: #f0f8ff;}#sk-container-id-1 input.sk-toggleable__control:checked~div.sk-toggleable__content {max-height: 200px;max-width: 100%;overflow: auto;}#sk-container-id-1 input.sk-toggleable__control:checked~label.sk-toggleable__label-arrow:before {content: \"▾\";}#sk-container-id-1 div.sk-estimator input.sk-toggleable__control:checked~label.sk-toggleable__label {background-color: #d4ebff;}#sk-container-id-1 div.sk-label input.sk-toggleable__control:checked~label.sk-toggleable__label {background-color: #d4ebff;}#sk-container-id-1 input.sk-hidden--visually {border: 0;clip: rect(1px 1px 1px 1px);clip: rect(1px, 1px, 1px, 1px);height: 1px;margin: -1px;overflow: hidden;padding: 0;position: absolute;width: 1px;}#sk-container-id-1 div.sk-estimator {font-family: monospace;background-color: #f0f8ff;border: 1px dotted black;border-radius: 0.25em;box-sizing: border-box;margin-bottom: 0.5em;}#sk-container-id-1 div.sk-estimator:hover {background-color: #d4ebff;}#sk-container-id-1 div.sk-parallel-item::after {content: \"\";width: 100%;border-bottom: 1px solid gray;flex-grow: 1;}#sk-container-id-1 div.sk-label:hover label.sk-toggleable__label {background-color: #d4ebff;}#sk-container-id-1 div.sk-serial::before {content: \"\";position: absolute;border-left: 1px solid gray;box-sizing: border-box;top: 0;bottom: 0;left: 50%;z-index: 0;}#sk-container-id-1 div.sk-serial {display: flex;flex-direction: column;align-items: center;background-color: white;padding-right: 0.2em;padding-left: 0.2em;position: relative;}#sk-container-id-1 div.sk-item {position: relative;z-index: 1;}#sk-container-id-1 div.sk-parallel {display: flex;align-items: stretch;justify-content: center;background-color: white;position: relative;}#sk-container-id-1 div.sk-item::before, #sk-container-id-1 div.sk-parallel-item::before {content: \"\";position: absolute;border-left: 1px solid gray;box-sizing: border-box;top: 0;bottom: 0;left: 50%;z-index: -1;}#sk-container-id-1 div.sk-parallel-item {display: flex;flex-direction: column;z-index: 1;position: relative;background-color: white;}#sk-container-id-1 div.sk-parallel-item:first-child::after {align-self: flex-end;width: 50%;}#sk-container-id-1 div.sk-parallel-item:last-child::after {align-self: flex-start;width: 50%;}#sk-container-id-1 div.sk-parallel-item:only-child::after {width: 0;}#sk-container-id-1 div.sk-dashed-wrapped {border: 1px dashed gray;margin: 0 0.4em 0.5em 0.4em;box-sizing: border-box;padding-bottom: 0.4em;background-color: white;}#sk-container-id-1 div.sk-label label {font-family: monospace;font-weight: bold;display: inline-block;line-height: 1.2em;}#sk-container-id-1 div.sk-label-container {text-align: center;}#sk-container-id-1 div.sk-container {/* jupyter's `normalize.less` sets `[hidden] { display: none; }` but bootstrap.min.css set `[hidden] { display: none !important; }` so we also need the `!important` here to be able to override the default hidden behavior on the sphinx rendered scikit-learn.org. See: https://github.com/scikit-learn/scikit-learn/issues/21755 */display: inline-block !important;position: relative;}#sk-container-id-1 div.sk-text-repr-fallback {display: none;}</style><div id=\"sk-container-id-1\" class=\"sk-top-container\"><div class=\"sk-text-repr-fallback\"><pre>OneHotEncoder()</pre><b>In a Jupyter environment, please rerun this cell to show the HTML representation or trust the notebook. <br />On GitHub, the HTML representation is unable to render, please try loading this page with nbviewer.org.</b></div><div class=\"sk-container\" hidden><div class=\"sk-item\"><div class=\"sk-estimator sk-toggleable\"><input class=\"sk-toggleable__control sk-hidden--visually\" id=\"sk-estimator-id-1\" type=\"checkbox\" checked><label for=\"sk-estimator-id-1\" class=\"sk-toggleable__label sk-toggleable__label-arrow\">OneHotEncoder</label><div class=\"sk-toggleable__content\"><pre>OneHotEncoder()</pre></div></div></div></div></div>"
      ],
      "text/plain": [
       "OneHotEncoder()"
      ]
     },
     "execution_count": 45,
     "metadata": {},
     "output_type": "execute_result"
    }
   ],
   "source": [
    "ohe = OneHotEncoder()\n",
    "ohe.fit(X[['name','company','fuel_type']])"
   ]
  },
  {
   "cell_type": "code",
   "execution_count": 46,
   "id": "00140465-3a54-44c9-bf8c-41ddcabb2480",
   "metadata": {},
   "outputs": [],
   "source": [
    "column_trans=make_column_transformer((OneHotEncoder(categories=ohe.categories_,drop='first'),['name','company','fuel_type']),\n",
    "                                    remainder='passthrough')"
   ]
  },
  {
   "cell_type": "code",
   "execution_count": 47,
   "id": "cfb30bb0-be56-4934-9964-66975d45b102",
   "metadata": {},
   "outputs": [
    {
     "data": {
      "text/html": [
       "<style>#sk-container-id-2 {color: black;}#sk-container-id-2 pre{padding: 0;}#sk-container-id-2 div.sk-toggleable {background-color: white;}#sk-container-id-2 label.sk-toggleable__label {cursor: pointer;display: block;width: 100%;margin-bottom: 0;padding: 0.3em;box-sizing: border-box;text-align: center;}#sk-container-id-2 label.sk-toggleable__label-arrow:before {content: \"▸\";float: left;margin-right: 0.25em;color: #696969;}#sk-container-id-2 label.sk-toggleable__label-arrow:hover:before {color: black;}#sk-container-id-2 div.sk-estimator:hover label.sk-toggleable__label-arrow:before {color: black;}#sk-container-id-2 div.sk-toggleable__content {max-height: 0;max-width: 0;overflow: hidden;text-align: left;background-color: #f0f8ff;}#sk-container-id-2 div.sk-toggleable__content pre {margin: 0.2em;color: black;border-radius: 0.25em;background-color: #f0f8ff;}#sk-container-id-2 input.sk-toggleable__control:checked~div.sk-toggleable__content {max-height: 200px;max-width: 100%;overflow: auto;}#sk-container-id-2 input.sk-toggleable__control:checked~label.sk-toggleable__label-arrow:before {content: \"▾\";}#sk-container-id-2 div.sk-estimator input.sk-toggleable__control:checked~label.sk-toggleable__label {background-color: #d4ebff;}#sk-container-id-2 div.sk-label input.sk-toggleable__control:checked~label.sk-toggleable__label {background-color: #d4ebff;}#sk-container-id-2 input.sk-hidden--visually {border: 0;clip: rect(1px 1px 1px 1px);clip: rect(1px, 1px, 1px, 1px);height: 1px;margin: -1px;overflow: hidden;padding: 0;position: absolute;width: 1px;}#sk-container-id-2 div.sk-estimator {font-family: monospace;background-color: #f0f8ff;border: 1px dotted black;border-radius: 0.25em;box-sizing: border-box;margin-bottom: 0.5em;}#sk-container-id-2 div.sk-estimator:hover {background-color: #d4ebff;}#sk-container-id-2 div.sk-parallel-item::after {content: \"\";width: 100%;border-bottom: 1px solid gray;flex-grow: 1;}#sk-container-id-2 div.sk-label:hover label.sk-toggleable__label {background-color: #d4ebff;}#sk-container-id-2 div.sk-serial::before {content: \"\";position: absolute;border-left: 1px solid gray;box-sizing: border-box;top: 0;bottom: 0;left: 50%;z-index: 0;}#sk-container-id-2 div.sk-serial {display: flex;flex-direction: column;align-items: center;background-color: white;padding-right: 0.2em;padding-left: 0.2em;position: relative;}#sk-container-id-2 div.sk-item {position: relative;z-index: 1;}#sk-container-id-2 div.sk-parallel {display: flex;align-items: stretch;justify-content: center;background-color: white;position: relative;}#sk-container-id-2 div.sk-item::before, #sk-container-id-2 div.sk-parallel-item::before {content: \"\";position: absolute;border-left: 1px solid gray;box-sizing: border-box;top: 0;bottom: 0;left: 50%;z-index: -1;}#sk-container-id-2 div.sk-parallel-item {display: flex;flex-direction: column;z-index: 1;position: relative;background-color: white;}#sk-container-id-2 div.sk-parallel-item:first-child::after {align-self: flex-end;width: 50%;}#sk-container-id-2 div.sk-parallel-item:last-child::after {align-self: flex-start;width: 50%;}#sk-container-id-2 div.sk-parallel-item:only-child::after {width: 0;}#sk-container-id-2 div.sk-dashed-wrapped {border: 1px dashed gray;margin: 0 0.4em 0.5em 0.4em;box-sizing: border-box;padding-bottom: 0.4em;background-color: white;}#sk-container-id-2 div.sk-label label {font-family: monospace;font-weight: bold;display: inline-block;line-height: 1.2em;}#sk-container-id-2 div.sk-label-container {text-align: center;}#sk-container-id-2 div.sk-container {/* jupyter's `normalize.less` sets `[hidden] { display: none; }` but bootstrap.min.css set `[hidden] { display: none !important; }` so we also need the `!important` here to be able to override the default hidden behavior on the sphinx rendered scikit-learn.org. See: https://github.com/scikit-learn/scikit-learn/issues/21755 */display: inline-block !important;position: relative;}#sk-container-id-2 div.sk-text-repr-fallback {display: none;}</style><div id=\"sk-container-id-2\" class=\"sk-top-container\"><div class=\"sk-text-repr-fallback\"><pre>ColumnTransformer(remainder=&#x27;passthrough&#x27;,\n",
       "                  transformers=[(&#x27;onehotencoder&#x27;,\n",
       "                                 OneHotEncoder(categories=[array([&#x27;Audi A3 Cabriolet&#x27;, &#x27;Audi A4 1.8&#x27;, &#x27;Audi A4 2.0&#x27;, &#x27;Audi A6 2.0&#x27;,\n",
       "       &#x27;Audi A8&#x27;, &#x27;Audi Q3 2.0&#x27;, &#x27;Audi Q5 2.0&#x27;, &#x27;Audi Q7&#x27;, &#x27;BMW 3 Series&#x27;,\n",
       "       &#x27;BMW 5 Series&#x27;, &#x27;BMW 7 Series&#x27;, &#x27;BMW X1&#x27;, &#x27;BMW X1 sDrive20d&#x27;,\n",
       "       &#x27;BMW X1 xDrive20d&#x27;, &#x27;Chevrolet Beat&#x27;, &#x27;Chevrolet Beat Diesel&#x27;,\n",
       "       &#x27;Chevrolet Beat LS&#x27;, &#x27;Chevrolet B...\n",
       "       &#x27;Volkswagen Vento Konekt&#x27;, &#x27;Volvo S80 Summum&#x27;], dtype=object),\n",
       "                                                           array([&#x27;Audi&#x27;, &#x27;BMW&#x27;, &#x27;Chevrolet&#x27;, &#x27;Datsun&#x27;, &#x27;Fiat&#x27;, &#x27;Force&#x27;, &#x27;Ford&#x27;,\n",
       "       &#x27;Hindustan&#x27;, &#x27;Honda&#x27;, &#x27;Hyundai&#x27;, &#x27;Jaguar&#x27;, &#x27;Jeep&#x27;, &#x27;Land&#x27;,\n",
       "       &#x27;Mahindra&#x27;, &#x27;Maruti&#x27;, &#x27;Mercedes&#x27;, &#x27;Mini&#x27;, &#x27;Mitsubishi&#x27;, &#x27;Nissan&#x27;,\n",
       "       &#x27;Renault&#x27;, &#x27;Skoda&#x27;, &#x27;Tata&#x27;, &#x27;Toyota&#x27;, &#x27;Volkswagen&#x27;, &#x27;Volvo&#x27;],\n",
       "      dtype=object),\n",
       "                                                           array([&#x27;Diesel&#x27;, &#x27;LPG&#x27;, &#x27;Petrol&#x27;], dtype=object)],\n",
       "                                               drop=&#x27;first&#x27;),\n",
       "                                 [&#x27;name&#x27;, &#x27;company&#x27;, &#x27;fuel_type&#x27;])])</pre><b>In a Jupyter environment, please rerun this cell to show the HTML representation or trust the notebook. <br />On GitHub, the HTML representation is unable to render, please try loading this page with nbviewer.org.</b></div><div class=\"sk-container\" hidden><div class=\"sk-item sk-dashed-wrapped\"><div class=\"sk-label-container\"><div class=\"sk-label sk-toggleable\"><input class=\"sk-toggleable__control sk-hidden--visually\" id=\"sk-estimator-id-2\" type=\"checkbox\" ><label for=\"sk-estimator-id-2\" class=\"sk-toggleable__label sk-toggleable__label-arrow\">ColumnTransformer</label><div class=\"sk-toggleable__content\"><pre>ColumnTransformer(remainder=&#x27;passthrough&#x27;,\n",
       "                  transformers=[(&#x27;onehotencoder&#x27;,\n",
       "                                 OneHotEncoder(categories=[array([&#x27;Audi A3 Cabriolet&#x27;, &#x27;Audi A4 1.8&#x27;, &#x27;Audi A4 2.0&#x27;, &#x27;Audi A6 2.0&#x27;,\n",
       "       &#x27;Audi A8&#x27;, &#x27;Audi Q3 2.0&#x27;, &#x27;Audi Q5 2.0&#x27;, &#x27;Audi Q7&#x27;, &#x27;BMW 3 Series&#x27;,\n",
       "       &#x27;BMW 5 Series&#x27;, &#x27;BMW 7 Series&#x27;, &#x27;BMW X1&#x27;, &#x27;BMW X1 sDrive20d&#x27;,\n",
       "       &#x27;BMW X1 xDrive20d&#x27;, &#x27;Chevrolet Beat&#x27;, &#x27;Chevrolet Beat Diesel&#x27;,\n",
       "       &#x27;Chevrolet Beat LS&#x27;, &#x27;Chevrolet B...\n",
       "       &#x27;Volkswagen Vento Konekt&#x27;, &#x27;Volvo S80 Summum&#x27;], dtype=object),\n",
       "                                                           array([&#x27;Audi&#x27;, &#x27;BMW&#x27;, &#x27;Chevrolet&#x27;, &#x27;Datsun&#x27;, &#x27;Fiat&#x27;, &#x27;Force&#x27;, &#x27;Ford&#x27;,\n",
       "       &#x27;Hindustan&#x27;, &#x27;Honda&#x27;, &#x27;Hyundai&#x27;, &#x27;Jaguar&#x27;, &#x27;Jeep&#x27;, &#x27;Land&#x27;,\n",
       "       &#x27;Mahindra&#x27;, &#x27;Maruti&#x27;, &#x27;Mercedes&#x27;, &#x27;Mini&#x27;, &#x27;Mitsubishi&#x27;, &#x27;Nissan&#x27;,\n",
       "       &#x27;Renault&#x27;, &#x27;Skoda&#x27;, &#x27;Tata&#x27;, &#x27;Toyota&#x27;, &#x27;Volkswagen&#x27;, &#x27;Volvo&#x27;],\n",
       "      dtype=object),\n",
       "                                                           array([&#x27;Diesel&#x27;, &#x27;LPG&#x27;, &#x27;Petrol&#x27;], dtype=object)],\n",
       "                                               drop=&#x27;first&#x27;),\n",
       "                                 [&#x27;name&#x27;, &#x27;company&#x27;, &#x27;fuel_type&#x27;])])</pre></div></div></div><div class=\"sk-parallel\"><div class=\"sk-parallel-item\"><div class=\"sk-item\"><div class=\"sk-label-container\"><div class=\"sk-label sk-toggleable\"><input class=\"sk-toggleable__control sk-hidden--visually\" id=\"sk-estimator-id-3\" type=\"checkbox\" ><label for=\"sk-estimator-id-3\" class=\"sk-toggleable__label sk-toggleable__label-arrow\">onehotencoder</label><div class=\"sk-toggleable__content\"><pre>[&#x27;name&#x27;, &#x27;company&#x27;, &#x27;fuel_type&#x27;]</pre></div></div></div><div class=\"sk-serial\"><div class=\"sk-item\"><div class=\"sk-estimator sk-toggleable\"><input class=\"sk-toggleable__control sk-hidden--visually\" id=\"sk-estimator-id-4\" type=\"checkbox\" ><label for=\"sk-estimator-id-4\" class=\"sk-toggleable__label sk-toggleable__label-arrow\">OneHotEncoder</label><div class=\"sk-toggleable__content\"><pre>OneHotEncoder(categories=[array([&#x27;Audi A3 Cabriolet&#x27;, &#x27;Audi A4 1.8&#x27;, &#x27;Audi A4 2.0&#x27;, &#x27;Audi A6 2.0&#x27;,\n",
       "       &#x27;Audi A8&#x27;, &#x27;Audi Q3 2.0&#x27;, &#x27;Audi Q5 2.0&#x27;, &#x27;Audi Q7&#x27;, &#x27;BMW 3 Series&#x27;,\n",
       "       &#x27;BMW 5 Series&#x27;, &#x27;BMW 7 Series&#x27;, &#x27;BMW X1&#x27;, &#x27;BMW X1 sDrive20d&#x27;,\n",
       "       &#x27;BMW X1 xDrive20d&#x27;, &#x27;Chevrolet Beat&#x27;, &#x27;Chevrolet Beat Diesel&#x27;,\n",
       "       &#x27;Chevrolet Beat LS&#x27;, &#x27;Chevrolet Beat LT&#x27;, &#x27;Chevrolet Beat PS&#x27;,\n",
       "       &#x27;Chevrolet Cruze LTZ&#x27;, &#x27;Chevrolet Enjoy&#x27;, &#x27;Chevrolet E...\n",
       "       &#x27;Volkswagen Vento Konekt&#x27;, &#x27;Volvo S80 Summum&#x27;], dtype=object),\n",
       "                          array([&#x27;Audi&#x27;, &#x27;BMW&#x27;, &#x27;Chevrolet&#x27;, &#x27;Datsun&#x27;, &#x27;Fiat&#x27;, &#x27;Force&#x27;, &#x27;Ford&#x27;,\n",
       "       &#x27;Hindustan&#x27;, &#x27;Honda&#x27;, &#x27;Hyundai&#x27;, &#x27;Jaguar&#x27;, &#x27;Jeep&#x27;, &#x27;Land&#x27;,\n",
       "       &#x27;Mahindra&#x27;, &#x27;Maruti&#x27;, &#x27;Mercedes&#x27;, &#x27;Mini&#x27;, &#x27;Mitsubishi&#x27;, &#x27;Nissan&#x27;,\n",
       "       &#x27;Renault&#x27;, &#x27;Skoda&#x27;, &#x27;Tata&#x27;, &#x27;Toyota&#x27;, &#x27;Volkswagen&#x27;, &#x27;Volvo&#x27;],\n",
       "      dtype=object),\n",
       "                          array([&#x27;Diesel&#x27;, &#x27;LPG&#x27;, &#x27;Petrol&#x27;], dtype=object)],\n",
       "              drop=&#x27;first&#x27;)</pre></div></div></div></div></div></div><div class=\"sk-parallel-item\"><div class=\"sk-item\"><div class=\"sk-label-container\"><div class=\"sk-label sk-toggleable\"><input class=\"sk-toggleable__control sk-hidden--visually\" id=\"sk-estimator-id-5\" type=\"checkbox\" ><label for=\"sk-estimator-id-5\" class=\"sk-toggleable__label sk-toggleable__label-arrow\">remainder</label><div class=\"sk-toggleable__content\"><pre></pre></div></div></div><div class=\"sk-serial\"><div class=\"sk-item\"><div class=\"sk-estimator sk-toggleable\"><input class=\"sk-toggleable__control sk-hidden--visually\" id=\"sk-estimator-id-6\" type=\"checkbox\" ><label for=\"sk-estimator-id-6\" class=\"sk-toggleable__label sk-toggleable__label-arrow\">passthrough</label><div class=\"sk-toggleable__content\"><pre>passthrough</pre></div></div></div></div></div></div></div></div></div></div>"
      ],
      "text/plain": [
       "ColumnTransformer(remainder='passthrough',\n",
       "                  transformers=[('onehotencoder',\n",
       "                                 OneHotEncoder(categories=[array(['Audi A3 Cabriolet', 'Audi A4 1.8', 'Audi A4 2.0', 'Audi A6 2.0',\n",
       "       'Audi A8', 'Audi Q3 2.0', 'Audi Q5 2.0', 'Audi Q7', 'BMW 3 Series',\n",
       "       'BMW 5 Series', 'BMW 7 Series', 'BMW X1', 'BMW X1 sDrive20d',\n",
       "       'BMW X1 xDrive20d', 'Chevrolet Beat', 'Chevrolet Beat Diesel',\n",
       "       'Chevrolet Beat LS', 'Chevrolet B...\n",
       "       'Volkswagen Vento Konekt', 'Volvo S80 Summum'], dtype=object),\n",
       "                                                           array(['Audi', 'BMW', 'Chevrolet', 'Datsun', 'Fiat', 'Force', 'Ford',\n",
       "       'Hindustan', 'Honda', 'Hyundai', 'Jaguar', 'Jeep', 'Land',\n",
       "       'Mahindra', 'Maruti', 'Mercedes', 'Mini', 'Mitsubishi', 'Nissan',\n",
       "       'Renault', 'Skoda', 'Tata', 'Toyota', 'Volkswagen', 'Volvo'],\n",
       "      dtype=object),\n",
       "                                                           array(['Diesel', 'LPG', 'Petrol'], dtype=object)],\n",
       "                                               drop='first'),\n",
       "                                 ['name', 'company', 'fuel_type'])])"
      ]
     },
     "execution_count": 47,
     "metadata": {},
     "output_type": "execute_result"
    }
   ],
   "source": [
    "column_trans"
   ]
  },
  {
   "cell_type": "code",
   "execution_count": 48,
   "id": "5cf2e089-3ccc-47c3-8d2a-ecf875e60f10",
   "metadata": {},
   "outputs": [],
   "source": [
    "lr = LinearRegression()"
   ]
  },
  {
   "cell_type": "code",
   "execution_count": 49,
   "id": "2fb8dee9-3e62-44e0-a98a-b40cbc8c4186",
   "metadata": {},
   "outputs": [],
   "source": [
    "pipe = make_pipeline(column_trans,lr)"
   ]
  },
  {
   "cell_type": "code",
   "execution_count": 50,
   "id": "675a8be7-8f72-43ce-a270-6ab649be516f",
   "metadata": {},
   "outputs": [
    {
     "data": {
      "text/html": [
       "<style>#sk-container-id-3 {color: black;}#sk-container-id-3 pre{padding: 0;}#sk-container-id-3 div.sk-toggleable {background-color: white;}#sk-container-id-3 label.sk-toggleable__label {cursor: pointer;display: block;width: 100%;margin-bottom: 0;padding: 0.3em;box-sizing: border-box;text-align: center;}#sk-container-id-3 label.sk-toggleable__label-arrow:before {content: \"▸\";float: left;margin-right: 0.25em;color: #696969;}#sk-container-id-3 label.sk-toggleable__label-arrow:hover:before {color: black;}#sk-container-id-3 div.sk-estimator:hover label.sk-toggleable__label-arrow:before {color: black;}#sk-container-id-3 div.sk-toggleable__content {max-height: 0;max-width: 0;overflow: hidden;text-align: left;background-color: #f0f8ff;}#sk-container-id-3 div.sk-toggleable__content pre {margin: 0.2em;color: black;border-radius: 0.25em;background-color: #f0f8ff;}#sk-container-id-3 input.sk-toggleable__control:checked~div.sk-toggleable__content {max-height: 200px;max-width: 100%;overflow: auto;}#sk-container-id-3 input.sk-toggleable__control:checked~label.sk-toggleable__label-arrow:before {content: \"▾\";}#sk-container-id-3 div.sk-estimator input.sk-toggleable__control:checked~label.sk-toggleable__label {background-color: #d4ebff;}#sk-container-id-3 div.sk-label input.sk-toggleable__control:checked~label.sk-toggleable__label {background-color: #d4ebff;}#sk-container-id-3 input.sk-hidden--visually {border: 0;clip: rect(1px 1px 1px 1px);clip: rect(1px, 1px, 1px, 1px);height: 1px;margin: -1px;overflow: hidden;padding: 0;position: absolute;width: 1px;}#sk-container-id-3 div.sk-estimator {font-family: monospace;background-color: #f0f8ff;border: 1px dotted black;border-radius: 0.25em;box-sizing: border-box;margin-bottom: 0.5em;}#sk-container-id-3 div.sk-estimator:hover {background-color: #d4ebff;}#sk-container-id-3 div.sk-parallel-item::after {content: \"\";width: 100%;border-bottom: 1px solid gray;flex-grow: 1;}#sk-container-id-3 div.sk-label:hover label.sk-toggleable__label {background-color: #d4ebff;}#sk-container-id-3 div.sk-serial::before {content: \"\";position: absolute;border-left: 1px solid gray;box-sizing: border-box;top: 0;bottom: 0;left: 50%;z-index: 0;}#sk-container-id-3 div.sk-serial {display: flex;flex-direction: column;align-items: center;background-color: white;padding-right: 0.2em;padding-left: 0.2em;position: relative;}#sk-container-id-3 div.sk-item {position: relative;z-index: 1;}#sk-container-id-3 div.sk-parallel {display: flex;align-items: stretch;justify-content: center;background-color: white;position: relative;}#sk-container-id-3 div.sk-item::before, #sk-container-id-3 div.sk-parallel-item::before {content: \"\";position: absolute;border-left: 1px solid gray;box-sizing: border-box;top: 0;bottom: 0;left: 50%;z-index: -1;}#sk-container-id-3 div.sk-parallel-item {display: flex;flex-direction: column;z-index: 1;position: relative;background-color: white;}#sk-container-id-3 div.sk-parallel-item:first-child::after {align-self: flex-end;width: 50%;}#sk-container-id-3 div.sk-parallel-item:last-child::after {align-self: flex-start;width: 50%;}#sk-container-id-3 div.sk-parallel-item:only-child::after {width: 0;}#sk-container-id-3 div.sk-dashed-wrapped {border: 1px dashed gray;margin: 0 0.4em 0.5em 0.4em;box-sizing: border-box;padding-bottom: 0.4em;background-color: white;}#sk-container-id-3 div.sk-label label {font-family: monospace;font-weight: bold;display: inline-block;line-height: 1.2em;}#sk-container-id-3 div.sk-label-container {text-align: center;}#sk-container-id-3 div.sk-container {/* jupyter's `normalize.less` sets `[hidden] { display: none; }` but bootstrap.min.css set `[hidden] { display: none !important; }` so we also need the `!important` here to be able to override the default hidden behavior on the sphinx rendered scikit-learn.org. See: https://github.com/scikit-learn/scikit-learn/issues/21755 */display: inline-block !important;position: relative;}#sk-container-id-3 div.sk-text-repr-fallback {display: none;}</style><div id=\"sk-container-id-3\" class=\"sk-top-container\"><div class=\"sk-text-repr-fallback\"><pre>Pipeline(steps=[(&#x27;columntransformer&#x27;,\n",
       "                 ColumnTransformer(remainder=&#x27;passthrough&#x27;,\n",
       "                                   transformers=[(&#x27;onehotencoder&#x27;,\n",
       "                                                  OneHotEncoder(categories=[array([&#x27;Audi A3 Cabriolet&#x27;, &#x27;Audi A4 1.8&#x27;, &#x27;Audi A4 2.0&#x27;, &#x27;Audi A6 2.0&#x27;,\n",
       "       &#x27;Audi A8&#x27;, &#x27;Audi Q3 2.0&#x27;, &#x27;Audi Q5 2.0&#x27;, &#x27;Audi Q7&#x27;, &#x27;BMW 3 Series&#x27;,\n",
       "       &#x27;BMW 5 Series&#x27;, &#x27;BMW 7 Series&#x27;, &#x27;BMW X1&#x27;, &#x27;BMW X1 sDrive20d&#x27;,\n",
       "       &#x27;BMW X1 xDrive20d&#x27;, &#x27;Chevrolet Beat&#x27;, &#x27;Chevrolet Beat...\n",
       "                                                                            array([&#x27;Audi&#x27;, &#x27;BMW&#x27;, &#x27;Chevrolet&#x27;, &#x27;Datsun&#x27;, &#x27;Fiat&#x27;, &#x27;Force&#x27;, &#x27;Ford&#x27;,\n",
       "       &#x27;Hindustan&#x27;, &#x27;Honda&#x27;, &#x27;Hyundai&#x27;, &#x27;Jaguar&#x27;, &#x27;Jeep&#x27;, &#x27;Land&#x27;,\n",
       "       &#x27;Mahindra&#x27;, &#x27;Maruti&#x27;, &#x27;Mercedes&#x27;, &#x27;Mini&#x27;, &#x27;Mitsubishi&#x27;, &#x27;Nissan&#x27;,\n",
       "       &#x27;Renault&#x27;, &#x27;Skoda&#x27;, &#x27;Tata&#x27;, &#x27;Toyota&#x27;, &#x27;Volkswagen&#x27;, &#x27;Volvo&#x27;],\n",
       "      dtype=object),\n",
       "                                                                            array([&#x27;Diesel&#x27;, &#x27;LPG&#x27;, &#x27;Petrol&#x27;], dtype=object)],\n",
       "                                                                drop=&#x27;first&#x27;),\n",
       "                                                  [&#x27;name&#x27;, &#x27;company&#x27;,\n",
       "                                                   &#x27;fuel_type&#x27;])])),\n",
       "                (&#x27;linearregression&#x27;, LinearRegression())])</pre><b>In a Jupyter environment, please rerun this cell to show the HTML representation or trust the notebook. <br />On GitHub, the HTML representation is unable to render, please try loading this page with nbviewer.org.</b></div><div class=\"sk-container\" hidden><div class=\"sk-item sk-dashed-wrapped\"><div class=\"sk-label-container\"><div class=\"sk-label sk-toggleable\"><input class=\"sk-toggleable__control sk-hidden--visually\" id=\"sk-estimator-id-7\" type=\"checkbox\" ><label for=\"sk-estimator-id-7\" class=\"sk-toggleable__label sk-toggleable__label-arrow\">Pipeline</label><div class=\"sk-toggleable__content\"><pre>Pipeline(steps=[(&#x27;columntransformer&#x27;,\n",
       "                 ColumnTransformer(remainder=&#x27;passthrough&#x27;,\n",
       "                                   transformers=[(&#x27;onehotencoder&#x27;,\n",
       "                                                  OneHotEncoder(categories=[array([&#x27;Audi A3 Cabriolet&#x27;, &#x27;Audi A4 1.8&#x27;, &#x27;Audi A4 2.0&#x27;, &#x27;Audi A6 2.0&#x27;,\n",
       "       &#x27;Audi A8&#x27;, &#x27;Audi Q3 2.0&#x27;, &#x27;Audi Q5 2.0&#x27;, &#x27;Audi Q7&#x27;, &#x27;BMW 3 Series&#x27;,\n",
       "       &#x27;BMW 5 Series&#x27;, &#x27;BMW 7 Series&#x27;, &#x27;BMW X1&#x27;, &#x27;BMW X1 sDrive20d&#x27;,\n",
       "       &#x27;BMW X1 xDrive20d&#x27;, &#x27;Chevrolet Beat&#x27;, &#x27;Chevrolet Beat...\n",
       "                                                                            array([&#x27;Audi&#x27;, &#x27;BMW&#x27;, &#x27;Chevrolet&#x27;, &#x27;Datsun&#x27;, &#x27;Fiat&#x27;, &#x27;Force&#x27;, &#x27;Ford&#x27;,\n",
       "       &#x27;Hindustan&#x27;, &#x27;Honda&#x27;, &#x27;Hyundai&#x27;, &#x27;Jaguar&#x27;, &#x27;Jeep&#x27;, &#x27;Land&#x27;,\n",
       "       &#x27;Mahindra&#x27;, &#x27;Maruti&#x27;, &#x27;Mercedes&#x27;, &#x27;Mini&#x27;, &#x27;Mitsubishi&#x27;, &#x27;Nissan&#x27;,\n",
       "       &#x27;Renault&#x27;, &#x27;Skoda&#x27;, &#x27;Tata&#x27;, &#x27;Toyota&#x27;, &#x27;Volkswagen&#x27;, &#x27;Volvo&#x27;],\n",
       "      dtype=object),\n",
       "                                                                            array([&#x27;Diesel&#x27;, &#x27;LPG&#x27;, &#x27;Petrol&#x27;], dtype=object)],\n",
       "                                                                drop=&#x27;first&#x27;),\n",
       "                                                  [&#x27;name&#x27;, &#x27;company&#x27;,\n",
       "                                                   &#x27;fuel_type&#x27;])])),\n",
       "                (&#x27;linearregression&#x27;, LinearRegression())])</pre></div></div></div><div class=\"sk-serial\"><div class=\"sk-item sk-dashed-wrapped\"><div class=\"sk-label-container\"><div class=\"sk-label sk-toggleable\"><input class=\"sk-toggleable__control sk-hidden--visually\" id=\"sk-estimator-id-8\" type=\"checkbox\" ><label for=\"sk-estimator-id-8\" class=\"sk-toggleable__label sk-toggleable__label-arrow\">columntransformer: ColumnTransformer</label><div class=\"sk-toggleable__content\"><pre>ColumnTransformer(remainder=&#x27;passthrough&#x27;,\n",
       "                  transformers=[(&#x27;onehotencoder&#x27;,\n",
       "                                 OneHotEncoder(categories=[array([&#x27;Audi A3 Cabriolet&#x27;, &#x27;Audi A4 1.8&#x27;, &#x27;Audi A4 2.0&#x27;, &#x27;Audi A6 2.0&#x27;,\n",
       "       &#x27;Audi A8&#x27;, &#x27;Audi Q3 2.0&#x27;, &#x27;Audi Q5 2.0&#x27;, &#x27;Audi Q7&#x27;, &#x27;BMW 3 Series&#x27;,\n",
       "       &#x27;BMW 5 Series&#x27;, &#x27;BMW 7 Series&#x27;, &#x27;BMW X1&#x27;, &#x27;BMW X1 sDrive20d&#x27;,\n",
       "       &#x27;BMW X1 xDrive20d&#x27;, &#x27;Chevrolet Beat&#x27;, &#x27;Chevrolet Beat Diesel&#x27;,\n",
       "       &#x27;Chevrolet Beat LS&#x27;, &#x27;Chevrolet B...\n",
       "       &#x27;Volkswagen Vento Konekt&#x27;, &#x27;Volvo S80 Summum&#x27;], dtype=object),\n",
       "                                                           array([&#x27;Audi&#x27;, &#x27;BMW&#x27;, &#x27;Chevrolet&#x27;, &#x27;Datsun&#x27;, &#x27;Fiat&#x27;, &#x27;Force&#x27;, &#x27;Ford&#x27;,\n",
       "       &#x27;Hindustan&#x27;, &#x27;Honda&#x27;, &#x27;Hyundai&#x27;, &#x27;Jaguar&#x27;, &#x27;Jeep&#x27;, &#x27;Land&#x27;,\n",
       "       &#x27;Mahindra&#x27;, &#x27;Maruti&#x27;, &#x27;Mercedes&#x27;, &#x27;Mini&#x27;, &#x27;Mitsubishi&#x27;, &#x27;Nissan&#x27;,\n",
       "       &#x27;Renault&#x27;, &#x27;Skoda&#x27;, &#x27;Tata&#x27;, &#x27;Toyota&#x27;, &#x27;Volkswagen&#x27;, &#x27;Volvo&#x27;],\n",
       "      dtype=object),\n",
       "                                                           array([&#x27;Diesel&#x27;, &#x27;LPG&#x27;, &#x27;Petrol&#x27;], dtype=object)],\n",
       "                                               drop=&#x27;first&#x27;),\n",
       "                                 [&#x27;name&#x27;, &#x27;company&#x27;, &#x27;fuel_type&#x27;])])</pre></div></div></div><div class=\"sk-parallel\"><div class=\"sk-parallel-item\"><div class=\"sk-item\"><div class=\"sk-label-container\"><div class=\"sk-label sk-toggleable\"><input class=\"sk-toggleable__control sk-hidden--visually\" id=\"sk-estimator-id-9\" type=\"checkbox\" ><label for=\"sk-estimator-id-9\" class=\"sk-toggleable__label sk-toggleable__label-arrow\">onehotencoder</label><div class=\"sk-toggleable__content\"><pre>[&#x27;name&#x27;, &#x27;company&#x27;, &#x27;fuel_type&#x27;]</pre></div></div></div><div class=\"sk-serial\"><div class=\"sk-item\"><div class=\"sk-estimator sk-toggleable\"><input class=\"sk-toggleable__control sk-hidden--visually\" id=\"sk-estimator-id-10\" type=\"checkbox\" ><label for=\"sk-estimator-id-10\" class=\"sk-toggleable__label sk-toggleable__label-arrow\">OneHotEncoder</label><div class=\"sk-toggleable__content\"><pre>OneHotEncoder(categories=[array([&#x27;Audi A3 Cabriolet&#x27;, &#x27;Audi A4 1.8&#x27;, &#x27;Audi A4 2.0&#x27;, &#x27;Audi A6 2.0&#x27;,\n",
       "       &#x27;Audi A8&#x27;, &#x27;Audi Q3 2.0&#x27;, &#x27;Audi Q5 2.0&#x27;, &#x27;Audi Q7&#x27;, &#x27;BMW 3 Series&#x27;,\n",
       "       &#x27;BMW 5 Series&#x27;, &#x27;BMW 7 Series&#x27;, &#x27;BMW X1&#x27;, &#x27;BMW X1 sDrive20d&#x27;,\n",
       "       &#x27;BMW X1 xDrive20d&#x27;, &#x27;Chevrolet Beat&#x27;, &#x27;Chevrolet Beat Diesel&#x27;,\n",
       "       &#x27;Chevrolet Beat LS&#x27;, &#x27;Chevrolet Beat LT&#x27;, &#x27;Chevrolet Beat PS&#x27;,\n",
       "       &#x27;Chevrolet Cruze LTZ&#x27;, &#x27;Chevrolet Enjoy&#x27;, &#x27;Chevrolet E...\n",
       "       &#x27;Volkswagen Vento Konekt&#x27;, &#x27;Volvo S80 Summum&#x27;], dtype=object),\n",
       "                          array([&#x27;Audi&#x27;, &#x27;BMW&#x27;, &#x27;Chevrolet&#x27;, &#x27;Datsun&#x27;, &#x27;Fiat&#x27;, &#x27;Force&#x27;, &#x27;Ford&#x27;,\n",
       "       &#x27;Hindustan&#x27;, &#x27;Honda&#x27;, &#x27;Hyundai&#x27;, &#x27;Jaguar&#x27;, &#x27;Jeep&#x27;, &#x27;Land&#x27;,\n",
       "       &#x27;Mahindra&#x27;, &#x27;Maruti&#x27;, &#x27;Mercedes&#x27;, &#x27;Mini&#x27;, &#x27;Mitsubishi&#x27;, &#x27;Nissan&#x27;,\n",
       "       &#x27;Renault&#x27;, &#x27;Skoda&#x27;, &#x27;Tata&#x27;, &#x27;Toyota&#x27;, &#x27;Volkswagen&#x27;, &#x27;Volvo&#x27;],\n",
       "      dtype=object),\n",
       "                          array([&#x27;Diesel&#x27;, &#x27;LPG&#x27;, &#x27;Petrol&#x27;], dtype=object)],\n",
       "              drop=&#x27;first&#x27;)</pre></div></div></div></div></div></div><div class=\"sk-parallel-item\"><div class=\"sk-item\"><div class=\"sk-label-container\"><div class=\"sk-label sk-toggleable\"><input class=\"sk-toggleable__control sk-hidden--visually\" id=\"sk-estimator-id-11\" type=\"checkbox\" ><label for=\"sk-estimator-id-11\" class=\"sk-toggleable__label sk-toggleable__label-arrow\">remainder</label><div class=\"sk-toggleable__content\"><pre>[&#x27;year&#x27;, &#x27;kms_driven&#x27;]</pre></div></div></div><div class=\"sk-serial\"><div class=\"sk-item\"><div class=\"sk-estimator sk-toggleable\"><input class=\"sk-toggleable__control sk-hidden--visually\" id=\"sk-estimator-id-12\" type=\"checkbox\" ><label for=\"sk-estimator-id-12\" class=\"sk-toggleable__label sk-toggleable__label-arrow\">passthrough</label><div class=\"sk-toggleable__content\"><pre>passthrough</pre></div></div></div></div></div></div></div></div><div class=\"sk-item\"><div class=\"sk-estimator sk-toggleable\"><input class=\"sk-toggleable__control sk-hidden--visually\" id=\"sk-estimator-id-13\" type=\"checkbox\" ><label for=\"sk-estimator-id-13\" class=\"sk-toggleable__label sk-toggleable__label-arrow\">LinearRegression</label><div class=\"sk-toggleable__content\"><pre>LinearRegression()</pre></div></div></div></div></div></div></div>"
      ],
      "text/plain": [
       "Pipeline(steps=[('columntransformer',\n",
       "                 ColumnTransformer(remainder='passthrough',\n",
       "                                   transformers=[('onehotencoder',\n",
       "                                                  OneHotEncoder(categories=[array(['Audi A3 Cabriolet', 'Audi A4 1.8', 'Audi A4 2.0', 'Audi A6 2.0',\n",
       "       'Audi A8', 'Audi Q3 2.0', 'Audi Q5 2.0', 'Audi Q7', 'BMW 3 Series',\n",
       "       'BMW 5 Series', 'BMW 7 Series', 'BMW X1', 'BMW X1 sDrive20d',\n",
       "       'BMW X1 xDrive20d', 'Chevrolet Beat', 'Chevrolet Beat...\n",
       "                                                                            array(['Audi', 'BMW', 'Chevrolet', 'Datsun', 'Fiat', 'Force', 'Ford',\n",
       "       'Hindustan', 'Honda', 'Hyundai', 'Jaguar', 'Jeep', 'Land',\n",
       "       'Mahindra', 'Maruti', 'Mercedes', 'Mini', 'Mitsubishi', 'Nissan',\n",
       "       'Renault', 'Skoda', 'Tata', 'Toyota', 'Volkswagen', 'Volvo'],\n",
       "      dtype=object),\n",
       "                                                                            array(['Diesel', 'LPG', 'Petrol'], dtype=object)],\n",
       "                                                                drop='first'),\n",
       "                                                  ['name', 'company',\n",
       "                                                   'fuel_type'])])),\n",
       "                ('linearregression', LinearRegression())])"
      ]
     },
     "execution_count": 50,
     "metadata": {},
     "output_type": "execute_result"
    }
   ],
   "source": [
    "pipe.fit(X_train,y_train)"
   ]
  },
  {
   "cell_type": "code",
   "execution_count": 51,
   "id": "dfbb8666-5a2c-43fe-ae62-0edced3b2dd9",
   "metadata": {},
   "outputs": [],
   "source": [
    "y_pred = pipe.predict(X_test)"
   ]
  },
  {
   "cell_type": "code",
   "execution_count": 52,
   "id": "1c1993fb-8449-4c05-a211-9ad068efc49c",
   "metadata": {},
   "outputs": [
    {
     "data": {
      "text/plain": [
       "0.8238538618321581"
      ]
     },
     "execution_count": 52,
     "metadata": {},
     "output_type": "execute_result"
    }
   ],
   "source": [
    "r2_score(y_test,y_pred)"
   ]
  },
  {
   "cell_type": "code",
   "execution_count": 53,
   "id": "d26f21c8-d296-48f6-82d2-25e511a3f39a",
   "metadata": {},
   "outputs": [],
   "source": [
    "# score = []\n",
    "# for i in range(1000):\n",
    "#     X_train, X_test, y_train, y_test = train_test_split(X, y, test_size=0.2, random_state=i)\n",
    "#     lr = LinearRegression()\n",
    "#     pipe = make_pipeline(column_trans,lr)\n",
    "#     pipe.fit(X_train,y_train)\n",
    "#     y_pred = pipe.predict(X_test)\n",
    "#     score.append([r2_score(y_test,y_pred),i])\n",
    "\n",
    "# print(max(score))"
   ]
  },
  {
   "cell_type": "code",
   "execution_count": 54,
   "id": "b3fb7d30-44a5-4059-b149-442b1c38e522",
   "metadata": {},
   "outputs": [],
   "source": [
    "import pickle"
   ]
  },
  {
   "cell_type": "code",
   "execution_count": 55,
   "id": "d9b81d7a-d14f-402d-9770-07b19025376e",
   "metadata": {},
   "outputs": [],
   "source": [
    "pickle.dump(pipe,open(\"Car_Price_Prediction_lr.pkl\",\"wb\"))"
   ]
  },
  {
   "cell_type": "code",
   "execution_count": 56,
   "id": "8a9bb4ca-b44c-4364-acc9-30b9fba809d3",
   "metadata": {},
   "outputs": [],
   "source": [
    "final_price = np.round(pipe.predict(pd.DataFrame([[\"Hyundai Santro\", \"Hyundai\", 2023, 0, \"Petrol\"]],columns=['name','company','year','kms_driven','fuel_type'])),2)"
   ]
  },
  {
   "cell_type": "code",
   "execution_count": 57,
   "id": "6e16649d-d64e-4c71-a2ba-2b43ece4582d",
   "metadata": {},
   "outputs": [
    {
     "data": {
      "text/plain": [
       "array([716777.63])"
      ]
     },
     "execution_count": 57,
     "metadata": {},
     "output_type": "execute_result"
    }
   ],
   "source": [
    "final_price"
   ]
  },
  {
   "cell_type": "code",
   "execution_count": null,
   "id": "9df2c9fe-cad7-4c2d-bee2-23f9e97dc041",
   "metadata": {},
   "outputs": [],
   "source": []
  },
  {
   "cell_type": "code",
   "execution_count": null,
   "id": "f17d1858-0a13-4fa0-ab32-55364ab1f963",
   "metadata": {},
   "outputs": [],
   "source": []
  },
  {
   "cell_type": "code",
   "execution_count": null,
   "id": "68287da2-b757-45ed-89bd-9b2a6fd35ab1",
   "metadata": {},
   "outputs": [],
   "source": []
  },
  {
   "cell_type": "code",
   "execution_count": null,
   "id": "dc10ced5-4a4c-40cc-8f11-ab47e86aa4eb",
   "metadata": {},
   "outputs": [],
   "source": []
  },
  {
   "cell_type": "code",
   "execution_count": null,
   "id": "779b0574-cde5-4208-b4f8-f630cebc5a92",
   "metadata": {},
   "outputs": [],
   "source": []
  }
 ],
 "metadata": {
  "kernelspec": {
   "display_name": "Python 3 (ipykernel)",
   "language": "python",
   "name": "python3"
  },
  "language_info": {
   "codemirror_mode": {
    "name": "ipython",
    "version": 3
   },
   "file_extension": ".py",
   "mimetype": "text/x-python",
   "name": "python",
   "nbconvert_exporter": "python",
   "pygments_lexer": "ipython3",
   "version": "3.11.4"
  },
  "widgets": {
   "application/vnd.jupyter.widget-state+json": {
    "state": {},
    "version_major": 2,
    "version_minor": 0
   }
  }
 },
 "nbformat": 4,
 "nbformat_minor": 5
}
